{
 "cells": [
  {
   "cell_type": "code",
   "execution_count": 0,
   "metadata": {
    "application/vnd.databricks.v1+cell": {
     "cellMetadata": {
      "byteLimit": 2048000,
      "rowLimit": 10000
     },
     "inputWidgets": {},
     "nuid": "3c266026-646a-4caa-9478-2293ddab3588",
     "showTitle": false,
     "tableResultSettingsMap": {},
     "title": ""
    }
   },
   "outputs": [],
   "source": [
    "# dbutils.secrets.listScopes()\n",
    "# dbutils.secrets.list(\"DatabricksScope\")"
   ]
  },
  {
   "cell_type": "markdown",
   "metadata": {
    "application/vnd.databricks.v1+cell": {
     "cellMetadata": {
      "byteLimit": 2048000,
      "rowLimit": 10000
     },
     "inputWidgets": {},
     "nuid": "dd53450b-c5a9-4ec3-bd34-1e3f8f164c81",
     "showTitle": false,
     "tableResultSettingsMap": {},
     "title": ""
    }
   },
   "source": [
    "## Part 1\n",
    "##### I've never used S3 so used Azure instead\n",
    "##### Script this process so the files in the S3 bucket (Azure container) are kept in sync with the source when data on the website is updated, added, or deleted."
   ]
  },
  {
   "cell_type": "code",
   "execution_count": 0,
   "metadata": {
    "application/vnd.databricks.v1+cell": {
     "cellMetadata": {
      "byteLimit": 2048000,
      "rowLimit": 10000
     },
     "inputWidgets": {},
     "nuid": "4fa12a78-19e0-4f73-88ba-450aeab440e9",
     "showTitle": false,
     "tableResultSettingsMap": {},
     "title": ""
    }
   },
   "outputs": [],
   "source": [
    "############################   configure ADLS storage\n",
    "fileSystem = 'bls'\n",
    "storageAccountName = dbutils.secrets.get(scope = \"DatabricksScope\", key = \"StorageAccountName\")\n",
    "storageAccountKey = dbutils.secrets.get(scope = \"DatabricksScope\", key = \"StorageAccountKey\")\n",
    "fullStorageAccountName =  \"{0}.dfs.core.windows.net\".format(storageAccountName)\n",
    "# file_name = \"pr.data.0.Current.txt\"\n",
    "\n",
    "\n",
    "#config storage accounts \n",
    "spark.conf.set(f\"fs.azure.account.key.{storageAccountName}.dfs.core.windows.net\", storageAccountKey)\n",
    "adlsbasepath = f\"abfss://{fileSystem}@{storageAccountName}.dfs.core.windows.net\"\n",
    "file_paths = adlsbasepath + \"/input/\"\n",
    "\n",
    "# path_to_checkpoint = adlsbasepath + \"/checkpoint/\" + file_name"
   ]
  },
  {
   "cell_type": "code",
   "execution_count": 0,
   "metadata": {
    "application/vnd.databricks.v1+cell": {
     "cellMetadata": {
      "byteLimit": 2048000,
      "rowLimit": 10000
     },
     "inputWidgets": {},
     "nuid": "5205d0c8-8bf5-4d7c-8776-7602b18cae59",
     "showTitle": false,
     "tableResultSettingsMap": {},
     "title": ""
    }
   },
   "outputs": [
    {
     "data": {
      "text/plain": [
       "[FileInfo(path='abfss://bls@[REDACTED].dfs.core.windows.net/checkpoints/', name='checkpoints/', size=0, modificationTime=1751837491000),\n",
       " FileInfo(path='abfss://bls@[REDACTED].dfs.core.windows.net/delta/', name='delta/', size=0, modificationTime=1751837493000),\n",
       " FileInfo(path='abfss://bls@[REDACTED].dfs.core.windows.net/input/', name='input/', size=0, modificationTime=0),\n",
       " FileInfo(path='abfss://bls@[REDACTED].dfs.core.windows.net/output/', name='output/', size=0, modificationTime=0),\n",
       " FileInfo(path='abfss://bls@[REDACTED].dfs.core.windows.net/schemas/', name='schemas/', size=0, modificationTime=1751837493000)]"
      ]
     },
     "execution_count": 3,
     "metadata": {},
     "output_type": "execute_result"
    }
   ],
   "source": [
    "dbutils.fs.ls(adlsbasepath)"
   ]
  },
  {
   "cell_type": "markdown",
   "metadata": {
    "application/vnd.databricks.v1+cell": {
     "cellMetadata": {
      "byteLimit": 2048000,
      "rowLimit": 10000
     },
     "inputWidgets": {},
     "nuid": "c91aea25-d17e-44df-aecc-9de874a2719e",
     "showTitle": false,
     "tableResultSettingsMap": {},
     "title": ""
    }
   },
   "source": [
    "#### Part 1.1 Retrieve files dynamically from bls.gov site. Use User-Agent header to avoid 403 errors"
   ]
  },
  {
   "cell_type": "code",
   "execution_count": 0,
   "metadata": {
    "application/vnd.databricks.v1+cell": {
     "cellMetadata": {
      "byteLimit": 2048000,
      "rowLimit": 10000
     },
     "inputWidgets": {},
     "nuid": "74741ad8-6c8c-4b8d-a31b-e46db432989e",
     "showTitle": true,
     "tableResultSettingsMap": {},
     "title": "Part 1.1"
    }
   },
   "outputs": [
    {
     "name": "stdout",
     "output_type": "stream",
     "text": [
      "✅ Retrieved: pr.class\n",
      "✅ Retrieved: pr.class\n",
      "✅ Retrieved: pr.contacts\n",
      "✅ Retrieved: pr.contacts\n",
      "✅ Retrieved: pr.data.0.Current\n",
      "✅ Retrieved: pr.data.0.Current\n",
      "✅ Retrieved: pr.data.1.AllData\n",
      "✅ Retrieved: pr.data.1.AllData\n",
      "✅ Retrieved: pr.duration\n",
      "✅ Retrieved: pr.duration\n",
      "✅ Retrieved: pr.footnote\n",
      "✅ Retrieved: pr.footnote\n",
      "✅ Retrieved: pr.measure\n",
      "✅ Retrieved: pr.measure\n",
      "✅ Retrieved: pr.period\n",
      "✅ Retrieved: pr.period\n",
      "✅ Retrieved: pr.seasonal\n",
      "✅ Retrieved: pr.seasonal\n",
      "✅ Retrieved: pr.sector\n",
      "✅ Retrieved: pr.sector\n",
      "✅ Retrieved: pr.series\n",
      "✅ Retrieved: pr.series\n",
      "✅ Retrieved: pr.txt\n",
      "✅ Retrieved: pr.txt\n"
     ]
    }
   ],
   "source": [
    "import requests\n",
    "import re\n",
    "\n",
    "# BLS FTP base URL\n",
    "bls_base_url = \"https://download.bls.gov/pub/time.series/pr/\"\n",
    "\n",
    "### original file names - see below for scraping website to get dynamically\n",
    "# files = [\n",
    "#     \"pr.class\", \"pr.contacts\", \"pr.data.0.Current\", \"pr.data.1.AllData\",\n",
    "#     \"pr.duration\", \"pr.footnote\", \"pr.measure\", \"pr.period\",\n",
    "#     \"pr.seasonal\", \"pr.sector\", \"pr.series\", \"pr.txt\"\n",
    "# ]\n",
    "\n",
    "# User-Agent header to avoid 403 errors\n",
    "headers = {\n",
    "    \"User-Agent\": \"Mozilla/5.0 (Windows NT 10.0; Win64; x64)\"\n",
    "}\n",
    "\n",
    "def get_file_list(bls_base_url,headers):\n",
    "    \"\"\"Extract file names from the plain-text BLS directory listing.\"\"\"\n",
    "    response = requests.get(bls_base_url, headers=headers)\n",
    "    response.raise_for_status()\n",
    "\n",
    "    ### use regex to find files beginning with pr\n",
    "    return re.findall(r'pr\\.[\\w\\.]+', response.text)\n",
    "\n",
    "files = get_file_list(bls_base_url,headers)\n",
    "# print(files)\n",
    "\n",
    "adls_uri = adlsbasepath + \"/input/\"\n",
    "\n",
    "def stream_to_adls(file_name):\n",
    "    url = bls_base_url + file_name\n",
    "    try:\n",
    "        response = requests.get(url, headers=headers)\n",
    "        # print(response)\n",
    "        response.raise_for_status()\n",
    "        lines = response.text.splitlines()\n",
    "\n",
    "        # Convert to Spark DataFrame\n",
    "        df = spark.createDataFrame([(line,) for line in lines], [\"value\"])\n",
    "\n",
    "        # Write to ADLS\n",
    "        df.write.mode(\"overwrite\") \\\n",
    "        .option(\"header\", \"false\") \\\n",
    "        .option(\"delimiter\",\"\\t\") \\\n",
    "        .csv(f\"{adls_uri}/{file_name}\") \n",
    "        print(f\"✅ Retrieved: {file_name}\")  ### I got this part from copilot hee hee\n",
    "    except Exception as e:\n",
    "        print(f\"❌ Failed to retrieve {file_name}: {e}\")\n",
    "\n",
    "# Run for all files in files\n",
    "for file in files:\n",
    "    stream_to_adls(file)"
   ]
  },
  {
   "cell_type": "markdown",
   "metadata": {
    "application/vnd.databricks.v1+cell": {
     "cellMetadata": {
      "byteLimit": 2048000,
      "rowLimit": 10000
     },
     "inputWidgets": {},
     "nuid": "d5fa9efb-1fc7-4e6f-bcbc-7bd291e7c83a",
     "showTitle": false,
     "tableResultSettingsMap": {},
     "title": ""
    }
   },
   "source": [
    "#### There's nothing I can find from bls that identifies a change in files so use autoloader for the syncing part; will use input folder in place of raw, delta folder for delta tables, schemas mandatory. This can then go on a schedule of some type to check bls files. Also some files have headers and some don't....."
   ]
  },
  {
   "cell_type": "code",
   "execution_count": 0,
   "metadata": {
    "application/vnd.databricks.v1+cell": {
     "cellMetadata": {
      "byteLimit": 2048000,
      "rowLimit": 10000
     },
     "inputWidgets": {},
     "nuid": "67d9db2f-eea3-477e-8e74-281919af0f41",
     "showTitle": false,
     "tableResultSettingsMap": {},
     "title": ""
    }
   },
   "outputs": [],
   "source": [
    "from pyspark.sql.types import *\n",
    "\n",
    "#### to determine schema for file\n",
    "def get_bls_schema(file_name):\n",
    "    \"\"\"Return the appropriate schema for a given BLS file.\"\"\"\n",
    "    schemas = {\n",
    "        \"pr.data.1.AllData\": StructType([\n",
    "            StructField(\"series_id\", StringType()),\n",
    "            StructField(\"year\", IntegerType()),\n",
    "            StructField(\"period\", StringType()),\n",
    "            StructField(\"value\", StringType()),\n",
    "            StructField(\"footnote_codes\", StringType())\n",
    "        ]),\n",
    "        \"pr.data.0.Current\": StructType([\n",
    "            StructField(\"series_id\", StringType()),\n",
    "            StructField(\"year\", IntegerType()),\n",
    "            StructField(\"period\", StringType()),\n",
    "            StructField(\"value\", DoubleType()),\n",
    "            StructField(\"footnote_codes\", StringType())\n",
    "        ]),\n",
    "        \"pr.series\": StructType([\n",
    "            StructField(\"series_id\", StringType()),\n",
    "            StructField(\"area_code\", StringType()),\n",
    "            StructField(\"measure_code\", StringType()),\n",
    "            StructField(\"seasonal\", StringType()),\n",
    "            StructField(\"industry_code\", StringType()),\n",
    "            StructField(\"occupation_code\", StringType()),\n",
    "            StructField(\"class_code\", StringType())\n",
    "        ]),\n",
    "        \"pr.measure\": StructType([\n",
    "            StructField(\"measure_code\", StringType()),\n",
    "            StructField(\"measure_text\", StringType())\n",
    "        ]),\n",
    "        \"pr.class\": StructType([\n",
    "            StructField(\"class_code\", StringType()),\n",
    "            StructField(\"class_text\", StringType())\n",
    "        ]),\n",
    "        \"pr.duration\": StructType([\n",
    "            StructField(\"duration_code\", StringType()),\n",
    "            StructField(\"duration_text\", StringType())\n",
    "        ])\n",
    "    }\n",
    "    return schemas.get(file_name, None)"
   ]
  },
  {
   "cell_type": "markdown",
   "metadata": {
    "application/vnd.databricks.v1+cell": {
     "cellMetadata": {},
     "inputWidgets": {},
     "nuid": "5e2fd538-0b50-4512-9538-4f81a769e57e",
     "showTitle": false,
     "tableResultSettingsMap": {},
     "title": ""
    }
   },
   "source": [
    "##### some files didn't correspond to any schemas. In real life....I would investigate further.\n",
    "##### But the files we need for subsequent steps have schemas so I just kept going....."
   ]
  },
  {
   "cell_type": "code",
   "execution_count": 0,
   "metadata": {
    "application/vnd.databricks.v1+cell": {
     "cellMetadata": {
      "byteLimit": 2048000,
      "rowLimit": 10000
     },
     "inputWidgets": {},
     "nuid": "042ee017-9015-406f-ad51-870ef6f1c1e1",
     "showTitle": true,
     "tableResultSettingsMap": {},
     "title": "Part 1.1 (continued)"
    }
   },
   "outputs": [
    {
     "name": "stdout",
     "output_type": "stream",
     "text": [
      "✅ Auto Loader triggered for pr.class → bls_pr_class\n",
      "✅ Auto Loader triggered for pr.class → bls_pr_class\n",
      "No schema defined for file: pr.contacts\n",
      "No schema defined for file: pr.contacts\n",
      "✅ Auto Loader triggered for pr.data.0.Current → bls_pr_data_0_current\n",
      "✅ Auto Loader triggered for pr.data.0.Current → bls_pr_data_0_current\n",
      "✅ Auto Loader triggered for pr.data.1.AllData → bls_pr_data_1_alldata\n",
      "✅ Auto Loader triggered for pr.data.1.AllData → bls_pr_data_1_alldata\n",
      "✅ Auto Loader triggered for pr.duration → bls_pr_duration\n",
      "✅ Auto Loader triggered for pr.duration → bls_pr_duration\n",
      "No schema defined for file: pr.footnote\n",
      "No schema defined for file: pr.footnote\n",
      "✅ Auto Loader triggered for pr.measure → bls_pr_measure\n",
      "✅ Auto Loader triggered for pr.measure → bls_pr_measure\n",
      "No schema defined for file: pr.period\n",
      "No schema defined for file: pr.period\n",
      "No schema defined for file: pr.seasonal\n",
      "No schema defined for file: pr.seasonal\n",
      "No schema defined for file: pr.sector\n",
      "No schema defined for file: pr.sector\n",
      "✅ Auto Loader triggered for pr.series → bls_pr_series\n",
      "✅ Auto Loader triggered for pr.series → bls_pr_series\n",
      "No schema defined for file: pr.txt\n",
      "No schema defined for file: pr.txt\n"
     ]
    }
   ],
   "source": [
    "from pyspark.sql.types import *\n",
    "\n",
    "#### function that takes file_name and schema and writes to delta table, triggers once\n",
    "def autoload_bls_file(file_name, schema):\n",
    "    input_path = adlsbasepath + f\"/input/{file_name}\"\n",
    "    checkpoint_path = adlsbasepath + \"/checkpoints/bls/{file_name}\"\n",
    "    delta_table_name = f\"bls_{file_name.replace('.', '_').lower()}\"\n",
    "    delta_path = adlsbasepath + f\"/delta/{delta_table_name}\"\n",
    "\n",
    "    df = (\n",
    "    spark.readStream\n",
    "    .format(\"cloudFiles\")\n",
    "    .option(\"cloudFiles.format\", \"csv\")\n",
    "    .option(\"cloudFiles.schemaLocation\", adlsbasepath + \"/schemas/bls/\" + file_name)\n",
    "    .option(\"delimiter\", \"\\t\")\n",
    "    .option(\"header\", \"false\")\n",
    "    .schema(schema)  # Use .schema(), not .option(\"schema\", ...)\n",
    "    .load(input_path)\n",
    ")\n",
    "    query = df.writeStream \\\n",
    "        .format(\"delta\") \\\n",
    "        .outputMode(\"append\") \\\n",
    "        .option(\"checkpointLocation\", checkpoint_path) \\\n",
    "        .trigger(availableNow=True) \\\n",
    "        .start(delta_path)\n",
    "\n",
    "    query.awaitTermination()\n",
    "\n",
    "    print(f\"✅ Auto Loader triggered for {file_name} → {delta_table_name}\")\n",
    "\n",
    "### run for each file/schema\n",
    "\n",
    "for file_name in files:\n",
    "    schema = get_bls_schema(file_name)\n",
    "    if not schema:\n",
    "        print(f\"No schema defined for file: {file_name}\")  \n",
    "    else:\n",
    "        autoload_bls_file(file_name, schema)\n"
   ]
  },
  {
   "cell_type": "code",
   "execution_count": 0,
   "metadata": {
    "application/vnd.databricks.v1+cell": {
     "cellMetadata": {
      "byteLimit": 2048000,
      "rowLimit": 10000
     },
     "inputWidgets": {},
     "nuid": "18f1ade8-3f0a-4aef-ba7d-4a42f9f9ed9c",
     "showTitle": false,
     "tableResultSettingsMap": {},
     "title": ""
    }
   },
   "outputs": [],
   "source": [
    "# for stream in spark.streams.active:\n",
    "#     stream.stop()"
   ]
  },
  {
   "cell_type": "code",
   "execution_count": 0,
   "metadata": {
    "application/vnd.databricks.v1+cell": {
     "cellMetadata": {
      "byteLimit": 2048000,
      "rowLimit": 10000
     },
     "inputWidgets": {},
     "nuid": "8eee336f-fc12-4795-acef-6d9e06a74dd7",
     "showTitle": false,
     "tableResultSettingsMap": {},
     "title": ""
    }
   },
   "outputs": [],
   "source": [
    "# dbutils.fs.rm(adlsbasepath + \"/checkpoints\", recurse=True)\n",
    "# dbutils.fs.rm(adlsbasepath+ \"/schemas/bls\", recurse=True)"
   ]
  },
  {
   "cell_type": "markdown",
   "metadata": {
    "application/vnd.databricks.v1+cell": {
     "cellMetadata": {
      "byteLimit": 2048000,
      "rowLimit": 10000
     },
     "inputWidgets": {},
     "nuid": "d3c69d84-a702-4905-a7c9-fa60b2922eca",
     "showTitle": false,
     "tableResultSettingsMap": {},
     "title": ""
    }
   },
   "source": [
    "#  Part 2\n",
    "##### read from API and save population data in S3 (Azure blob) as a json file\n",
    "##### save in: output/population.json\n",
    "##### did this first and then made an azure function out of it for the terraform script......\n",
    "##### This was working GREAT....and then it started throwing the 404 error....."
   ]
  },
  {
   "cell_type": "code",
   "execution_count": 0,
   "metadata": {
    "application/vnd.databricks.v1+cell": {
     "cellMetadata": {
      "byteLimit": 2048000,
      "rowLimit": 10000
     },
     "inputWidgets": {},
     "nuid": "a17dfd4a-7c01-4beb-ba94-55823667c631",
     "showTitle": false,
     "tableResultSettingsMap": {},
     "title": ""
    }
   },
   "outputs": [
    {
     "name": "stdout",
     "output_type": "stream",
     "text": [
      "Error: 404 Client Error: Not Found for url: https://datausa.io/api/data?drilldowns=Nation&measures=Population\n"
     ]
    }
   ],
   "source": [
    "import requests\n",
    "import json\n",
    "import pandas as pd\n",
    "\n",
    "population_url = \"https://datausa.io/api/data?drilldowns=Nation&measures=Population\"\n",
    "\n",
    "try:\n",
    "    response = requests.get(population_url)\n",
    "    response.raise_for_status()\n",
    "    population_data = response.json()\n",
    "    population_string = json.dumps(population_data) ### make a string out of the json object\n",
    "    \n",
    "    # Convert to list of dicts\n",
    "    population_list = [json.loads(population_string)]\n",
    "\n",
    "    # Create pandas DataFrame\n",
    "    population_pdf = pd.DataFrame(population_list)\n",
    "\n",
    "    #### create spark df; write to blob as json file\n",
    "    population_df = spark.createDataFrame(population_pdf)\n",
    "    population_df.write.mode(\"overwrite\").format(\"json\").save(adlsbasepath + \"/output/population.json\")\n",
    "except Exception as e:\n",
    "    print(f\"Error: {e}\")\n",
    "\n"
   ]
  },
  {
   "cell_type": "markdown",
   "metadata": {
    "application/vnd.databricks.v1+cell": {
     "cellMetadata": {
      "byteLimit": 2048000,
      "rowLimit": 10000
     },
     "inputWidgets": {},
     "nuid": "322385ca-2ffa-4bd0-8db3-eb32796f36cb",
     "showTitle": false,
     "tableResultSettingsMap": {},
     "title": ""
    }
   },
   "source": [
    "# Part 3\n",
    "##### Read pr.data.0.Current and json file into dataframes\n",
    "##### from population data, generate the mean and the standard deviation of the annual US population across the years [2013, 2018] inclusive. Mean = sum of values divided by number of values. \n",
    "##### using stddev() function for standard deviation\n",
    "##### nothing says: don't use tempviews, so I used tempviews after making dfs and wrote SQL"
   ]
  },
  {
   "cell_type": "code",
   "execution_count": 0,
   "metadata": {
    "application/vnd.databricks.v1+cell": {
     "cellMetadata": {
      "byteLimit": 2048000,
      "rowLimit": 10000
     },
     "inputWidgets": {},
     "nuid": "542339de-0e44-43f3-9626-686984f1229b",
     "showTitle": false,
     "tableResultSettingsMap": {},
     "title": ""
    }
   },
   "outputs": [
    {
     "name": "stdout",
     "output_type": "stream",
     "text": [
      "+--------------------------------------------+\n",
      "|value                                       |\n",
      "+--------------------------------------------+\n",
      "|\"PRS85006162      \\t1996\\tQ03\\t         2.3\"|\n",
      "|\"PRS85006162      \\t1996\\tQ04\\t         1.1\"|\n",
      "|\"PRS85006162      \\t1996\\tQ05\\t         2.1\"|\n",
      "|\"PRS85006162      \\t1997\\tQ01\\t        -0.5\"|\n",
      "|\"PRS85006162      \\t1997\\tQ02\\t         5.7\"|\n",
      "|\"PRS85006162      \\t1997\\tQ03\\t         3.8\"|\n",
      "|\"PRS85006162      \\t1997\\tQ04\\t         1.3\"|\n",
      "|\"PRS85006162      \\t1997\\tQ05\\t         2.3\"|\n",
      "|\"PRS85006162      \\t1998\\tQ01\\t         4.1\"|\n",
      "|\"PRS85006162      \\t1998\\tQ02\\t         1.4\"|\n",
      "|\"PRS85006162      \\t1998\\tQ03\\t         4.3\"|\n",
      "|\"PRS85006162      \\t1998\\tQ04\\t         6.2\"|\n",
      "|\"PRS85006162      \\t1998\\tQ05\\t         3.3\"|\n",
      "|\"PRS85006162      \\t1999\\tQ01\\t         4.3\"|\n",
      "|\"PRS85006162      \\t1999\\tQ02\\t         1.1\"|\n",
      "|\"PRS85006162      \\t1999\\tQ03\\t         4.1\"|\n",
      "|\"PRS85006162      \\t1999\\tQ04\\t         6.0\"|\n",
      "|\"PRS85006162      \\t1999\\tQ05\\t         3.9\"|\n",
      "|\"PRS85006162      \\t2000\\tQ01\\t        -2.1\"|\n",
      "|\"PRS85006162      \\t2000\\tQ02\\t         7.9\"|\n",
      "+--------------------------------------------+\n",
      "only showing top 20 rows\n",
      "\n"
     ]
    }
   ],
   "source": [
    "##### delimiter/schema not working after adding autoloader above to \"automate\" the reading of the files\n",
    "##### parsed the data in the next cell.....\n",
    "spark.read.text(adlsbasepath + \"/input/pr.data.0.Current\").show(truncate=False)\n"
   ]
  },
  {
   "cell_type": "code",
   "execution_count": 0,
   "metadata": {
    "application/vnd.databricks.v1+cell": {
     "cellMetadata": {
      "byteLimit": 2048000,
      "rowLimit": 10000
     },
     "inputWidgets": {},
     "nuid": "cd7ceb87-2196-44a5-93ad-d4977395cae6",
     "showTitle": true,
     "tableResultSettingsMap": {},
     "title": "Part 3.0"
    }
   },
   "outputs": [],
   "source": [
    "##### read data into dataframes\n",
    "from pyspark.sql import functions as F\n",
    "from pyspark.sql.functions import col, regexp_replace\n",
    "\n",
    "population_df = spark.read.format(\"json\").load(adlsbasepath + \"/output/population.json\")\n",
    "population_df.createOrReplaceTempView(\"population_tv\")\n",
    "\n",
    "#### after adding the autoloader above...input files needed parsing...this should be investigated\n",
    "\n",
    "df_raw = spark.read.text(adlsbasepath + \"/input/pr.data.0.Current\")\n",
    "df_split = df_raw.selectExpr(\n",
    "    \"split(value, '\\\\t')[0] as series_id\",\n",
    "    \"int(split(value, '\\\\t')[1]) as year\",\n",
    "    \"split(value, '\\\\t')[2] as period\",\n",
    "    \"trim(split(value, '\\\\t')[3]) as value\",\n",
    "    \"trim(split(value, '\\\\t')[4]) as footnote_codes\"\n",
    ")\n",
    "\n",
    "# Remove quotes from all string columns\n",
    "df_clean = df_split.select([\n",
    "    regexp_replace(col(c), '\"', '').alias(c) if df_split.schema[c].dataType.simpleString() == 'string' else col(c)\n",
    "    for c in df_split.columns\n",
    "])\n",
    "\n",
    "#### remove spaces from column names\n",
    "bls_clean_df = df_clean.select([F.col(c).alias(c.strip()) for c in df_clean.columns])\n",
    "bls_clean_df.createOrReplaceTempView(\"bls_current_tv\")"
   ]
  },
  {
   "cell_type": "code",
   "execution_count": 0,
   "metadata": {
    "application/vnd.databricks.v1+cell": {
     "cellMetadata": {
      "byteLimit": 2048000,
      "implicitDf": true,
      "rowLimit": 10000
     },
     "inputWidgets": {},
     "nuid": "0e5be7c9-989c-47c4-b6e1-3e3b072958fb",
     "showTitle": true,
     "tableResultSettingsMap": {},
     "title": "Part 3.1 mean and stddev used tempviews"
    }
   },
   "outputs": [
    {
     "data": {
      "text/html": [
       "<style scoped>\n",
       "  .table-result-container {\n",
       "    max-height: 300px;\n",
       "    overflow: auto;\n",
       "  }\n",
       "  table, th, td {\n",
       "    border: 1px solid black;\n",
       "    border-collapse: collapse;\n",
       "  }\n",
       "  th, td {\n",
       "    padding: 5px;\n",
       "  }\n",
       "  th {\n",
       "    text-align: left;\n",
       "  }\n",
       "</style><div class='table-result-container'><table class='table-result'><thead style='background-color: white'><tr><th>populationMean</th><th>populationStdDev</th></tr></thead><tbody><tr><td>3.17437383E8</td><td>4257089.54152933</td></tr></tbody></table></div>"
      ]
     },
     "metadata": {
      "application/vnd.databricks.v1+output": {
       "addedWidgets": {},
       "aggData": [],
       "aggError": "",
       "aggOverflow": false,
       "aggSchema": [],
       "aggSeriesLimitReached": false,
       "aggType": "",
       "arguments": {},
       "columnCustomDisplayInfos": {},
       "data": [
        [
         317437383,
         4257089.54152933
        ]
       ],
       "datasetInfos": [],
       "dbfsResultPath": null,
       "isJsonSchema": true,
       "metadata": {
        "createTempViewForImplicitDf": true,
        "dataframeName": "_sqldf",
        "executionCount": 13
       },
       "overflow": false,
       "plotOptions": {
        "customPlotOptions": {},
        "displayType": "table",
        "pivotAggregation": null,
        "pivotColumns": null,
        "xColumns": null,
        "yColumns": null
       },
       "removedWidgets": [],
       "schema": [
        {
         "metadata": "{}",
         "name": "populationMean",
         "type": "\"double\""
        },
        {
         "metadata": "{}",
         "name": "populationStdDev",
         "type": "\"double\""
        }
       ],
       "type": "table"
      }
     },
     "output_type": "display_data"
    }
   ],
   "source": [
    "%sql\n",
    "SELECT SUM(item.population) / 6 AS populationMean\n",
    "-- , AVG(item.population) AS populationAvg\n",
    ", stddev(item.population) AS populationStdDev\n",
    "FROM population_tv\n",
    "JOIN LATERAL explode(data) AS t(item)\n",
    "WHERE item.`ID Year` BETWEEN 2013 AND 2018"
   ]
  },
  {
   "cell_type": "markdown",
   "metadata": {
    "application/vnd.databricks.v1+cell": {
     "cellMetadata": {
      "byteLimit": 2048000,
      "rowLimit": 10000
     },
     "inputWidgets": {},
     "nuid": "e1c8ac61-0fa8-46be-8843-5caf2d402334",
     "showTitle": false,
     "tableResultSettingsMap": {},
     "title": ""
    }
   },
   "source": [
    "#####  Part 3.2 For every series_id, find the best year: the year with the max/largest sum of \"value\" for all quarters in that year. (all quarters in that year is the same thing as all for that year. Unless you have funny calendar math and a quarter straddles two years....) Generate a report with each series id, the best year for that series, and the summed value for that year. Made a table report."
   ]
  },
  {
   "cell_type": "code",
   "execution_count": 0,
   "metadata": {
    "application/vnd.databricks.v1+cell": {
     "cellMetadata": {
      "byteLimit": 2048000,
      "implicitDf": true,
      "rowLimit": 10000
     },
     "inputWidgets": {},
     "nuid": "eafb41db-d029-4493-9aad-7fff7e25f0be",
     "showTitle": true,
     "tableResultSettingsMap": {},
     "title": "Part 3.2"
    }
   },
   "outputs": [
    {
     "data": {
      "text/html": [
       "<style scoped>\n",
       "  .table-result-container {\n",
       "    max-height: 300px;\n",
       "    overflow: auto;\n",
       "  }\n",
       "  table, th, td {\n",
       "    border: 1px solid black;\n",
       "    border-collapse: collapse;\n",
       "  }\n",
       "  th, td {\n",
       "    padding: 5px;\n",
       "  }\n",
       "  th {\n",
       "    text-align: left;\n",
       "  }\n",
       "</style><div class='table-result-container'><table class='table-result'><thead style='background-color: white'><tr><th>series_id</th><th>year</th><th>value</th></tr></thead><tbody><tr><td>PRS30006011</td><td>2022</td><td>20.5</td></tr><tr><td>PRS30006012</td><td>2022</td><td>17.1</td></tr><tr><td>PRS30006013</td><td>1998</td><td>705.895</td></tr><tr><td>PRS30006021</td><td>2010</td><td>17.7</td></tr><tr><td>PRS30006022</td><td>2010</td><td>12.399999999999999</td></tr><tr><td>PRS30006023</td><td>2014</td><td>503.21600000000007</td></tr><tr><td>PRS30006031</td><td>2022</td><td>20.5</td></tr><tr><td>PRS30006032</td><td>2021</td><td>17.1</td></tr><tr><td>PRS30006033</td><td>1998</td><td>702.672</td></tr><tr><td>PRS30006061</td><td>2022</td><td>37.0</td></tr><tr><td>PRS30006062</td><td>2021</td><td>31.6</td></tr><tr><td>PRS30006063</td><td>2024</td><td>646.748</td></tr><tr><td>PRS30006081</td><td>2021</td><td>24.4</td></tr><tr><td>PRS30006082</td><td>2021</td><td>24.4</td></tr><tr><td>PRS30006083</td><td>2021</td><td>110.742</td></tr><tr><td>PRS30006091</td><td>2002</td><td>43.3</td></tr><tr><td>PRS30006092</td><td>2002</td><td>44.39999999999999</td></tr><tr><td>PRS30006093</td><td>2013</td><td>514.1560000000001</td></tr><tr><td>PRS30006101</td><td>2020</td><td>33.5</td></tr><tr><td>PRS30006102</td><td>2020</td><td>36.2</td></tr><tr><td>PRS30006103</td><td>2024</td><td>644.924</td></tr><tr><td>PRS30006111</td><td>2020</td><td>34.2</td></tr><tr><td>PRS30006112</td><td>2008</td><td>42.699999999999996</td></tr><tr><td>PRS30006113</td><td>2024</td><td>654.2059999999999</td></tr><tr><td>PRS30006131</td><td>2021</td><td>18.5</td></tr><tr><td>PRS30006132</td><td>2021</td><td>18.5</td></tr><tr><td>PRS30006133</td><td>2021</td><td>114.159</td></tr><tr><td>PRS30006151</td><td>2020</td><td>26.5</td></tr><tr><td>PRS30006152</td><td>2020</td><td>31.099999999999994</td></tr><tr><td>PRS30006153</td><td>2020</td><td>529.709</td></tr><tr><td>PRS30006161</td><td>2010</td><td>50.6</td></tr><tr><td>PRS30006162</td><td>2002</td><td>48.099999999999994</td></tr><tr><td>PRS30006163</td><td>2014</td><td>515.921</td></tr><tr><td>PRS30006171</td><td>2015</td><td>11.1</td></tr><tr><td>PRS30006172</td><td>2015</td><td>11.1</td></tr><tr><td>PRS30006173</td><td>2001</td><td>123.107</td></tr><tr><td>PRS30006211</td><td>2010</td><td>35.0</td></tr><tr><td>PRS30006212</td><td>1997</td><td>38.8</td></tr><tr><td>PRS30006213</td><td>2007</td><td>523.8249999999999</td></tr><tr><td>PRS30006221</td><td>2021</td><td>13.1</td></tr><tr><td>PRS30006222</td><td>2021</td><td>13.1</td></tr><tr><td>PRS30006223</td><td>2021</td><td>114.48</td></tr><tr><td>PRS30006231</td><td>2021</td><td>18.7</td></tr><tr><td>PRS30006232</td><td>2021</td><td>18.7</td></tr><tr><td>PRS30006233</td><td>2021</td><td>111.054</td></tr><tr><td>PRS31006011</td><td>2022</td><td>20.2</td></tr><tr><td>PRS31006012</td><td>2022</td><td>20.0</td></tr><tr><td>PRS31006013</td><td>1998</td><td>707.846</td></tr><tr><td>PRS31006021</td><td>2010</td><td>19.4</td></tr><tr><td>PRS31006022</td><td>2010</td><td>14.299999999999999</td></tr><tr><td>PRS31006023</td><td>1997</td><td>503.9240000000001</td></tr><tr><td>PRS31006031</td><td>2022</td><td>23.7</td></tr><tr><td>PRS31006032</td><td>2011</td><td>21.900000000000002</td></tr><tr><td>PRS31006033</td><td>1998</td><td>705.6859999999999</td></tr><tr><td>PRS31006061</td><td>2022</td><td>35.5</td></tr><tr><td>PRS31006062</td><td>2021</td><td>32.6</td></tr><tr><td>PRS31006063</td><td>2024</td><td>649.173</td></tr><tr><td>PRS31006081</td><td>2021</td><td>17.1</td></tr><tr><td>PRS31006082</td><td>2021</td><td>17.1</td></tr><tr><td>PRS31006083</td><td>2018</td><td>105.435</td></tr><tr><td>PRS31006091</td><td>2010</td><td>42.8</td></tr><tr><td>PRS31006092</td><td>2002</td><td>49.8</td></tr><tr><td>PRS31006093</td><td>2014</td><td>507.25199999999995</td></tr><tr><td>PRS31006101</td><td>2000</td><td>34.6</td></tr><tr><td>PRS31006102</td><td>2020</td><td>40.900000000000006</td></tr><tr><td>PRS31006103</td><td>2024</td><td>649.394</td></tr><tr><td>PRS31006111</td><td>2009</td><td>37.5</td></tr><tr><td>PRS31006112</td><td>2008</td><td>58.3</td></tr><tr><td>PRS31006113</td><td>2024</td><td>673.9920000000001</td></tr><tr><td>PRS31006131</td><td>2021</td><td>12.7</td></tr><tr><td>PRS31006132</td><td>2021</td><td>12.7</td></tr><tr><td>PRS31006133</td><td>2021</td><td>112.014</td></tr><tr><td>PRS31006151</td><td>2020</td><td>27.6</td></tr><tr><td>PRS31006152</td><td>2020</td><td>35.9</td></tr><tr><td>PRS31006153</td><td>2020</td><td>529.5310000000001</td></tr><tr><td>PRS31006161</td><td>2010</td><td>64.1</td></tr><tr><td>PRS31006162</td><td>2002</td><td>54.7</td></tr><tr><td>PRS31006163</td><td>2014</td><td>510.858</td></tr><tr><td>PRS31006171</td><td>2009</td><td>8.9</td></tr><tr><td>PRS31006172</td><td>2009</td><td>8.9</td></tr><tr><td>PRS31006173</td><td>2001</td><td>112.143</td></tr><tr><td>PRS31006211</td><td>1997</td><td>47.6</td></tr><tr><td>PRS31006212</td><td>1997</td><td>55.5</td></tr><tr><td>PRS31006213</td><td>2007</td><td>523.364</td></tr><tr><td>PRS31006221</td><td>2021</td><td>9.0</td></tr><tr><td>PRS31006222</td><td>2021</td><td>9.0</td></tr><tr><td>PRS31006223</td><td>2021</td><td>114.177</td></tr><tr><td>PRS31006231</td><td>2021</td><td>13.2</td></tr><tr><td>PRS31006232</td><td>2021</td><td>13.2</td></tr><tr><td>PRS31006233</td><td>2021</td><td>107.341</td></tr><tr><td>PRS32006011</td><td>2022</td><td>21.099999999999998</td></tr><tr><td>PRS32006012</td><td>2021</td><td>14.100000000000001</td></tr><tr><td>PRS32006013</td><td>1995</td><td>726.141</td></tr><tr><td>PRS32006021</td><td>2010</td><td>14.5</td></tr><tr><td>PRS32006022</td><td>2010</td><td>9.200000000000001</td></tr><tr><td>PRS32006023</td><td>2012</td><td>503.276</td></tr><tr><td>PRS32006031</td><td>2021</td><td>18.200000000000003</td></tr><tr><td>PRS32006032</td><td>2021</td><td>17.6</td></tr><tr><td>PRS32006033</td><td>1995</td><td>710.8509999999999</td></tr><tr><td>PRS32006061</td><td>2022</td><td>40.6</td></tr><tr><td>PRS32006062</td><td>2021</td><td>30.9</td></tr><tr><td>PRS32006063</td><td>2024</td><td>642.048</td></tr><tr><td>PRS32006081</td><td>2021</td><td>26.8</td></tr><tr><td>PRS32006082</td><td>2021</td><td>26.8</td></tr><tr><td>PRS32006083</td><td>2013</td><td>114.922</td></tr><tr><td>PRS32006091</td><td>2002</td><td>35.0</td></tr><tr><td>PRS32006092</td><td>2004</td><td>31.700000000000003</td></tr><tr><td>PRS32006093</td><td>2014</td><td>513.797</td></tr><tr><td>PRS32006101</td><td>2020</td><td>34.1</td></tr><tr><td>PRS32006102</td><td>2003</td><td>34.6</td></tr><tr><td>PRS32006103</td><td>2024</td><td>636.773</td></tr><tr><td>PRS32006111</td><td>2020</td><td>35.4</td></tr><tr><td>PRS32006112</td><td>2008</td><td>34.9</td></tr><tr><td>PRS32006113</td><td>2024</td><td>639.062</td></tr><tr><td>PRS32006131</td><td>2021</td><td>21.3</td></tr><tr><td>PRS32006132</td><td>2021</td><td>21.3</td></tr><tr><td>PRS32006133</td><td>2012</td><td>117.295</td></tr><tr><td>PRS32006151</td><td>2020</td><td>27.0</td></tr><tr><td>PRS32006152</td><td>2020</td><td>26.099999999999998</td></tr><tr><td>PRS32006153</td><td>2020</td><td>531.48</td></tr><tr><td>PRS32006161</td><td>2002</td><td>36.0</td></tr><tr><td>PRS32006162</td><td>2002</td><td>31.599999999999998</td></tr><tr><td>PRS32006163</td><td>2013</td><td>516.748</td></tr><tr><td>PRS32006171</td><td>2015</td><td>15.5</td></tr><tr><td>PRS32006172</td><td>2015</td><td>15.5</td></tr><tr><td>PRS32006173</td><td>1998</td><td>137.187</td></tr><tr><td>PRS32006211</td><td>2021</td><td>22.9</td></tr><tr><td>PRS32006212</td><td>2021</td><td>23.8</td></tr><tr><td>PRS32006213</td><td>2007</td><td>517.015</td></tr><tr><td>PRS32006221</td><td>2021</td><td>17.3</td></tr><tr><td>PRS32006222</td><td>2021</td><td>17.3</td></tr><tr><td>PRS32006223</td><td>2021</td><td>114.673</td></tr><tr><td>PRS32006231</td><td>2021</td><td>22.6</td></tr><tr><td>PRS32006232</td><td>2021</td><td>22.6</td></tr><tr><td>PRS32006233</td><td>2021</td><td>114.102</td></tr><tr><td>PRS84006011</td><td>2022</td><td>22.799999999999997</td></tr><tr><td>PRS84006012</td><td>2021</td><td>25.400000000000002</td></tr><tr><td>PRS84006013</td><td>2024</td><td>537.88</td></tr><tr><td>PRS84006021</td><td>2010</td><td>6.0</td></tr><tr><td>PRS84006022</td><td>2010</td><td>7.0</td></tr><tr><td>PRS84006023</td><td>1997</td><td>518.5060000000001</td></tr><tr><td>PRS84006031</td><td>2021</td><td>27.500000000000004</td></tr><tr><td>PRS84006032</td><td>2021</td><td>27.599999999999998</td></tr><tr><td>PRS84006033</td><td>2024</td><td>526.094</td></tr><tr><td>PRS84006041</td><td>2021</td><td>38.8</td></tr><tr><td>PRS84006042</td><td>2021</td><td>35.0</td></tr><tr><td>PRS84006043</td><td>2024</td><td>605.263</td></tr><tr><td>PRS84006051</td><td>2021</td><td>66.3</td></tr><tr><td>PRS84006052</td><td>2021</td><td>70.8</td></tr><tr><td>PRS84006053</td><td>2024</td><td>750.8700000000001</td></tr><tr><td>PRS84006061</td><td>2021</td><td>54.3</td></tr><tr><td>PRS84006062</td><td>2021</td><td>53.8</td></tr><tr><td>PRS84006063</td><td>2024</td><td>729.4040000000001</td></tr><tr><td>PRS84006081</td><td>2021</td><td>82.7</td></tr><tr><td>PRS84006082</td><td>2021</td><td>95.2</td></tr><tr><td>PRS84006083</td><td>2024</td><td>778.5269999999999</td></tr><tr><td>PRS84006091</td><td>2020</td><td>25.7</td></tr><tr><td>PRS84006092</td><td>2009</td><td>30.5</td></tr><tr><td>PRS84006093</td><td>2024</td><td>575.2339999999999</td></tr><tr><td>PRS84006101</td><td>2020</td><td>40.3</td></tr><tr><td>PRS84006102</td><td>2020</td><td>47.6</td></tr><tr><td>PRS84006103</td><td>2024</td><td>693.2189999999999</td></tr><tr><td>PRS84006111</td><td>2022</td><td>26.099999999999998</td></tr><tr><td>PRS84006112</td><td>2012</td><td>23.999999999999996</td></tr><tr><td>PRS84006113</td><td>2024</td><td>602.5500000000001</td></tr><tr><td>PRS84006131</td><td>2022</td><td>58.0</td></tr><tr><td>PRS84006132</td><td>2022</td><td>56.60000000000001</td></tr><tr><td>PRS84006133</td><td>2024</td><td>643.0840000000001</td></tr><tr><td>PRS84006141</td><td>2022</td><td>40.0</td></tr><tr><td>PRS84006142</td><td>2022</td><td>36.5</td></tr><tr><td>PRS84006143</td><td>2024</td><td>620.2629999999999</td></tr><tr><td>PRS84006151</td><td>2020</td><td>33.2</td></tr><tr><td>PRS84006152</td><td>2020</td><td>41.9</td></tr><tr><td>PRS84006153</td><td>2021</td><td>550.312</td></tr><tr><td>PRS84006161</td><td>2010</td><td>21.9</td></tr><tr><td>PRS84006162</td><td>2020</td><td>26.1</td></tr><tr><td>PRS84006163</td><td>2024</td><td>562.632</td></tr><tr><td>PRS84006171</td><td>2020</td><td>12.200000000000001</td></tr><tr><td>PRS84006172</td><td>2020</td><td>18.2</td></tr><tr><td>PRS84006173</td><td>2001</td><td>559.66</td></tr><tr><td>PRS85006011</td><td>2022</td><td>23.200000000000003</td></tr><tr><td>PRS85006012</td><td>2021</td><td>26.3</td></tr><tr><td>PRS85006013</td><td>2024</td><td>539.023</td></tr><tr><td>PRS85006021</td><td>2010</td><td>6.1000000000000005</td></tr><tr><td>PRS85006022</td><td>2010</td><td>7.2</td></tr><tr><td>PRS85006023</td><td>1997</td><td>519.0889999999999</td></tr><tr><td>PRS85006031</td><td>2021</td><td>28.200000000000003</td></tr><tr><td>PRS85006032</td><td>2021</td><td>29.0</td></tr><tr><td>PRS85006033</td><td>2024</td><td>527.441</td></tr><tr><td>PRS85006041</td><td>2021</td><td>38.7</td></tr><tr><td>PRS85006042</td><td>2021</td><td>34.9</td></tr><tr><td>PRS85006043</td><td>2024</td><td>605.534</td></tr><tr><td>PRS85006051</td><td>2021</td><td>64.6</td></tr><tr><td>PRS85006052</td><td>2021</td><td>69.69999999999999</td></tr><tr><td>PRS85006053</td><td>2024</td><td>751.1840000000001</td></tr><tr><td>PRS85006061</td><td>2021</td><td>54.5</td></tr><tr><td>PRS85006062</td><td>2021</td><td>54.0</td></tr><tr><td>PRS85006063</td><td>2024</td><td>730.0110000000001</td></tr><tr><td>PRS85006081</td><td>2021</td><td>78.9</td></tr><tr><td>PRS85006082</td><td>2021</td><td>92.60000000000001</td></tr><tr><td>PRS85006083</td><td>2024</td><td>778.692</td></tr><tr><td>PRS85006091</td><td>2020</td><td>26.2</td></tr><tr><td>PRS85006092</td><td>2009</td><td>30.1</td></tr><tr><td>PRS85006093</td><td>2024</td><td>574.025</td></tr><tr><td>PRS85006101</td><td>2020</td><td>40.8</td></tr><tr><td>PRS85006102</td><td>2020</td><td>48.39999999999999</td></tr><tr><td>PRS85006103</td><td>2024</td><td>692.0219999999999</td></tr><tr><td>PRS85006111</td><td>2022</td><td>25.6</td></tr><tr><td>PRS85006112</td><td>2012</td><td>22.700000000000003</td></tr><tr><td>PRS85006113</td><td>2024</td><td>602.78</td></tr><tr><td>PRS85006131</td><td>2022</td><td>56.10000000000001</td></tr><tr><td>PRS85006132</td><td>2022</td><td>53.900000000000006</td></tr><tr><td>PRS85006133</td><td>2024</td><td>642.9369999999999</td></tr><tr><td>PRS85006141</td><td>2022</td><td>38.7</td></tr><tr><td>PRS85006142</td><td>2022</td><td>34.8</td></tr><tr><td>PRS85006143</td><td>2024</td><td>620.245</td></tr><tr><td>PRS85006151</td><td>2020</td><td>33.8</td></tr><tr><td>PRS85006152</td><td>2020</td><td>42.699999999999996</td></tr><tr><td>PRS85006153</td><td>2021</td><td>550.298</td></tr><tr><td>PRS85006161</td><td>2010</td><td>22.4</td></tr><tr><td>PRS85006162</td><td>2020</td><td>26.299999999999997</td></tr><tr><td>PRS85006163</td><td>2024</td><td>561.69</td></tr><tr><td>PRS85006171</td><td>2020</td><td>12.000000000000002</td></tr><tr><td>PRS85006172</td><td>2020</td><td>18.299999999999997</td></tr><tr><td>PRS85006173</td><td>2001</td><td>558.579</td></tr><tr><td>PRS88003011</td><td>2022</td><td>25.2</td></tr><tr><td>PRS88003012</td><td>2021</td><td>26.2</td></tr><tr><td>PRS88003013</td><td>2024</td><td>540.847</td></tr><tr><td>PRS88003021</td><td>2010</td><td>6.3999999999999995</td></tr><tr><td>PRS88003022</td><td>2010</td><td>7.6</td></tr><tr><td>PRS88003023</td><td>1997</td><td>517.819</td></tr><tr><td>PRS88003031</td><td>2021</td><td>26.1</td></tr><tr><td>PRS88003032</td><td>2021</td><td>27.299999999999997</td></tr><tr><td>PRS88003033</td><td>2024</td><td>529.8249999999999</td></tr><tr><td>PRS88003041</td><td>2021</td><td>49.599999999999994</td></tr><tr><td>PRS88003042</td><td>2021</td><td>39.1</td></tr><tr><td>PRS88003043</td><td>2024</td><td>618.056</td></tr><tr><td>PRS88003051</td><td>2021</td><td>75.9</td></tr><tr><td>PRS88003052</td><td>2021</td><td>73.3</td></tr><tr><td>PRS88003053</td><td>2024</td><td>765.554</td></tr><tr><td>PRS88003061</td><td>2021</td><td>51.8</td></tr><tr><td>PRS88003062</td><td>2021</td><td>53.8</td></tr><tr><td>PRS88003063</td><td>2024</td><td>740.6759999999999</td></tr><tr><td>PRS88003081</td><td>2021</td><td>113.6</td></tr><tr><td>PRS88003082</td><td>2021</td><td>103.9</td></tr><tr><td>PRS88003083</td><td>2024</td><td>800.793</td></tr><tr><td>PRS88003091</td><td>2021</td><td>22.3</td></tr><tr><td>PRS88003092</td><td>2020</td><td>24.8</td></tr><tr><td>PRS88003093</td><td>2024</td><td>583.2570000000001</td></tr><tr><td>PRS88003101</td><td>2020</td><td>39.7</td></tr><tr><td>PRS88003102</td><td>2020</td><td>46.5</td></tr><tr><td>PRS88003103</td><td>2024</td><td>698.975</td></tr><tr><td>PRS88003111</td><td>2020</td><td>22.299999999999997</td></tr><tr><td>PRS88003112</td><td>2020</td><td>20.5</td></tr><tr><td>PRS88003113</td><td>2024</td><td>599.2040000000001</td></tr><tr><td>PRS88003121</td><td>2022</td><td>76.19999999999999</td></tr><tr><td>PRS88003122</td><td>2022</td><td>60.00000000000001</td></tr><tr><td>PRS88003123</td><td>2024</td><td>550.97</td></tr><tr><td>PRS88003131</td><td>2022</td><td>59.10000000000001</td></tr><tr><td>PRS88003132</td><td>2021</td><td>59.89999999999999</td></tr><tr><td>PRS88003133</td><td>2024</td><td>647.8019999999999</td></tr><tr><td>PRS88003141</td><td>2022</td><td>36.9</td></tr><tr><td>PRS88003142</td><td>2022</td><td>32.50000000000001</td></tr><tr><td>PRS88003143</td><td>2024</td><td>619.3140000000001</td></tr><tr><td>PRS88003151</td><td>2020</td><td>32.6</td></tr><tr><td>PRS88003152</td><td>2020</td><td>41.199999999999996</td></tr><tr><td>PRS88003153</td><td>2021</td><td>550.058</td></tr><tr><td>PRS88003161</td><td>2010</td><td>27.299999999999997</td></tr><tr><td>PRS88003162</td><td>2020</td><td>26.8</td></tr><tr><td>PRS88003163</td><td>2024</td><td>571.37</td></tr><tr><td>PRS88003171</td><td>2020</td><td>15.2</td></tr><tr><td>PRS88003172</td><td>2020</td><td>14.500000000000002</td></tr><tr><td>PRS88003173</td><td>2001</td><td>558.625</td></tr><tr><td>PRS88003181</td><td>2021</td><td>209.8</td></tr><tr><td>PRS88003182</td><td>2002</td><td>308.00000000000006</td></tr><tr><td>PRS88003183</td><td>2024</td><td>1064.205</td></tr><tr><td>PRS88003191</td><td>2010</td><td>153.0</td></tr><tr><td>PRS88003192</td><td>2002</td><td>282.79999999999995</td></tr><tr><td>PRS88003193</td><td>2024</td><td>860.838</td></tr><tr><td>PRS88003201</td><td>2022</td><td>37.2</td></tr><tr><td>PRS88003202</td><td>2022</td><td>28.700000000000003</td></tr><tr><td>PRS88003203</td><td>2024</td><td>583.441</td></tr></tbody></table></div>"
      ]
     },
     "metadata": {
      "application/vnd.databricks.v1+output": {
       "addedWidgets": {},
       "aggData": [],
       "aggError": "",
       "aggOverflow": false,
       "aggSchema": [],
       "aggSeriesLimitReached": false,
       "aggType": "",
       "arguments": {},
       "columnCustomDisplayInfos": {},
       "data": [
        [
         "PRS30006011",
         2022,
         20.5
        ],
        [
         "PRS30006012",
         2022,
         17.1
        ],
        [
         "PRS30006013",
         1998,
         705.895
        ],
        [
         "PRS30006021",
         2010,
         17.7
        ],
        [
         "PRS30006022",
         2010,
         12.399999999999999
        ],
        [
         "PRS30006023",
         2014,
         503.21600000000007
        ],
        [
         "PRS30006031",
         2022,
         20.5
        ],
        [
         "PRS30006032",
         2021,
         17.1
        ],
        [
         "PRS30006033",
         1998,
         702.672
        ],
        [
         "PRS30006061",
         2022,
         37
        ],
        [
         "PRS30006062",
         2021,
         31.6
        ],
        [
         "PRS30006063",
         2024,
         646.748
        ],
        [
         "PRS30006081",
         2021,
         24.4
        ],
        [
         "PRS30006082",
         2021,
         24.4
        ],
        [
         "PRS30006083",
         2021,
         110.742
        ],
        [
         "PRS30006091",
         2002,
         43.3
        ],
        [
         "PRS30006092",
         2002,
         44.39999999999999
        ],
        [
         "PRS30006093",
         2013,
         514.1560000000001
        ],
        [
         "PRS30006101",
         2020,
         33.5
        ],
        [
         "PRS30006102",
         2020,
         36.2
        ],
        [
         "PRS30006103",
         2024,
         644.924
        ],
        [
         "PRS30006111",
         2020,
         34.2
        ],
        [
         "PRS30006112",
         2008,
         42.699999999999996
        ],
        [
         "PRS30006113",
         2024,
         654.2059999999999
        ],
        [
         "PRS30006131",
         2021,
         18.5
        ],
        [
         "PRS30006132",
         2021,
         18.5
        ],
        [
         "PRS30006133",
         2021,
         114.159
        ],
        [
         "PRS30006151",
         2020,
         26.5
        ],
        [
         "PRS30006152",
         2020,
         31.099999999999994
        ],
        [
         "PRS30006153",
         2020,
         529.709
        ],
        [
         "PRS30006161",
         2010,
         50.6
        ],
        [
         "PRS30006162",
         2002,
         48.099999999999994
        ],
        [
         "PRS30006163",
         2014,
         515.921
        ],
        [
         "PRS30006171",
         2015,
         11.1
        ],
        [
         "PRS30006172",
         2015,
         11.1
        ],
        [
         "PRS30006173",
         2001,
         123.107
        ],
        [
         "PRS30006211",
         2010,
         35
        ],
        [
         "PRS30006212",
         1997,
         38.8
        ],
        [
         "PRS30006213",
         2007,
         523.8249999999999
        ],
        [
         "PRS30006221",
         2021,
         13.1
        ],
        [
         "PRS30006222",
         2021,
         13.1
        ],
        [
         "PRS30006223",
         2021,
         114.48
        ],
        [
         "PRS30006231",
         2021,
         18.7
        ],
        [
         "PRS30006232",
         2021,
         18.7
        ],
        [
         "PRS30006233",
         2021,
         111.054
        ],
        [
         "PRS31006011",
         2022,
         20.2
        ],
        [
         "PRS31006012",
         2022,
         20
        ],
        [
         "PRS31006013",
         1998,
         707.846
        ],
        [
         "PRS31006021",
         2010,
         19.4
        ],
        [
         "PRS31006022",
         2010,
         14.299999999999999
        ],
        [
         "PRS31006023",
         1997,
         503.9240000000001
        ],
        [
         "PRS31006031",
         2022,
         23.7
        ],
        [
         "PRS31006032",
         2011,
         21.900000000000002
        ],
        [
         "PRS31006033",
         1998,
         705.6859999999999
        ],
        [
         "PRS31006061",
         2022,
         35.5
        ],
        [
         "PRS31006062",
         2021,
         32.6
        ],
        [
         "PRS31006063",
         2024,
         649.173
        ],
        [
         "PRS31006081",
         2021,
         17.1
        ],
        [
         "PRS31006082",
         2021,
         17.1
        ],
        [
         "PRS31006083",
         2018,
         105.435
        ],
        [
         "PRS31006091",
         2010,
         42.8
        ],
        [
         "PRS31006092",
         2002,
         49.8
        ],
        [
         "PRS31006093",
         2014,
         507.25199999999995
        ],
        [
         "PRS31006101",
         2000,
         34.6
        ],
        [
         "PRS31006102",
         2020,
         40.900000000000006
        ],
        [
         "PRS31006103",
         2024,
         649.394
        ],
        [
         "PRS31006111",
         2009,
         37.5
        ],
        [
         "PRS31006112",
         2008,
         58.3
        ],
        [
         "PRS31006113",
         2024,
         673.9920000000001
        ],
        [
         "PRS31006131",
         2021,
         12.7
        ],
        [
         "PRS31006132",
         2021,
         12.7
        ],
        [
         "PRS31006133",
         2021,
         112.014
        ],
        [
         "PRS31006151",
         2020,
         27.6
        ],
        [
         "PRS31006152",
         2020,
         35.9
        ],
        [
         "PRS31006153",
         2020,
         529.5310000000001
        ],
        [
         "PRS31006161",
         2010,
         64.1
        ],
        [
         "PRS31006162",
         2002,
         54.7
        ],
        [
         "PRS31006163",
         2014,
         510.858
        ],
        [
         "PRS31006171",
         2009,
         8.9
        ],
        [
         "PRS31006172",
         2009,
         8.9
        ],
        [
         "PRS31006173",
         2001,
         112.143
        ],
        [
         "PRS31006211",
         1997,
         47.6
        ],
        [
         "PRS31006212",
         1997,
         55.5
        ],
        [
         "PRS31006213",
         2007,
         523.364
        ],
        [
         "PRS31006221",
         2021,
         9
        ],
        [
         "PRS31006222",
         2021,
         9
        ],
        [
         "PRS31006223",
         2021,
         114.177
        ],
        [
         "PRS31006231",
         2021,
         13.2
        ],
        [
         "PRS31006232",
         2021,
         13.2
        ],
        [
         "PRS31006233",
         2021,
         107.341
        ],
        [
         "PRS32006011",
         2022,
         21.099999999999998
        ],
        [
         "PRS32006012",
         2021,
         14.100000000000001
        ],
        [
         "PRS32006013",
         1995,
         726.141
        ],
        [
         "PRS32006021",
         2010,
         14.5
        ],
        [
         "PRS32006022",
         2010,
         9.200000000000001
        ],
        [
         "PRS32006023",
         2012,
         503.276
        ],
        [
         "PRS32006031",
         2021,
         18.200000000000003
        ],
        [
         "PRS32006032",
         2021,
         17.6
        ],
        [
         "PRS32006033",
         1995,
         710.8509999999999
        ],
        [
         "PRS32006061",
         2022,
         40.6
        ],
        [
         "PRS32006062",
         2021,
         30.9
        ],
        [
         "PRS32006063",
         2024,
         642.048
        ],
        [
         "PRS32006081",
         2021,
         26.8
        ],
        [
         "PRS32006082",
         2021,
         26.8
        ],
        [
         "PRS32006083",
         2013,
         114.922
        ],
        [
         "PRS32006091",
         2002,
         35
        ],
        [
         "PRS32006092",
         2004,
         31.700000000000003
        ],
        [
         "PRS32006093",
         2014,
         513.797
        ],
        [
         "PRS32006101",
         2020,
         34.1
        ],
        [
         "PRS32006102",
         2003,
         34.6
        ],
        [
         "PRS32006103",
         2024,
         636.773
        ],
        [
         "PRS32006111",
         2020,
         35.4
        ],
        [
         "PRS32006112",
         2008,
         34.9
        ],
        [
         "PRS32006113",
         2024,
         639.062
        ],
        [
         "PRS32006131",
         2021,
         21.3
        ],
        [
         "PRS32006132",
         2021,
         21.3
        ],
        [
         "PRS32006133",
         2012,
         117.295
        ],
        [
         "PRS32006151",
         2020,
         27
        ],
        [
         "PRS32006152",
         2020,
         26.099999999999998
        ],
        [
         "PRS32006153",
         2020,
         531.48
        ],
        [
         "PRS32006161",
         2002,
         36
        ],
        [
         "PRS32006162",
         2002,
         31.599999999999998
        ],
        [
         "PRS32006163",
         2013,
         516.748
        ],
        [
         "PRS32006171",
         2015,
         15.5
        ],
        [
         "PRS32006172",
         2015,
         15.5
        ],
        [
         "PRS32006173",
         1998,
         137.187
        ],
        [
         "PRS32006211",
         2021,
         22.9
        ],
        [
         "PRS32006212",
         2021,
         23.8
        ],
        [
         "PRS32006213",
         2007,
         517.015
        ],
        [
         "PRS32006221",
         2021,
         17.3
        ],
        [
         "PRS32006222",
         2021,
         17.3
        ],
        [
         "PRS32006223",
         2021,
         114.673
        ],
        [
         "PRS32006231",
         2021,
         22.6
        ],
        [
         "PRS32006232",
         2021,
         22.6
        ],
        [
         "PRS32006233",
         2021,
         114.102
        ],
        [
         "PRS84006011",
         2022,
         22.799999999999997
        ],
        [
         "PRS84006012",
         2021,
         25.400000000000002
        ],
        [
         "PRS84006013",
         2024,
         537.88
        ],
        [
         "PRS84006021",
         2010,
         6
        ],
        [
         "PRS84006022",
         2010,
         7
        ],
        [
         "PRS84006023",
         1997,
         518.5060000000001
        ],
        [
         "PRS84006031",
         2021,
         27.500000000000004
        ],
        [
         "PRS84006032",
         2021,
         27.599999999999998
        ],
        [
         "PRS84006033",
         2024,
         526.094
        ],
        [
         "PRS84006041",
         2021,
         38.8
        ],
        [
         "PRS84006042",
         2021,
         35
        ],
        [
         "PRS84006043",
         2024,
         605.263
        ],
        [
         "PRS84006051",
         2021,
         66.3
        ],
        [
         "PRS84006052",
         2021,
         70.8
        ],
        [
         "PRS84006053",
         2024,
         750.8700000000001
        ],
        [
         "PRS84006061",
         2021,
         54.3
        ],
        [
         "PRS84006062",
         2021,
         53.8
        ],
        [
         "PRS84006063",
         2024,
         729.4040000000001
        ],
        [
         "PRS84006081",
         2021,
         82.7
        ],
        [
         "PRS84006082",
         2021,
         95.2
        ],
        [
         "PRS84006083",
         2024,
         778.5269999999999
        ],
        [
         "PRS84006091",
         2020,
         25.7
        ],
        [
         "PRS84006092",
         2009,
         30.5
        ],
        [
         "PRS84006093",
         2024,
         575.2339999999999
        ],
        [
         "PRS84006101",
         2020,
         40.3
        ],
        [
         "PRS84006102",
         2020,
         47.6
        ],
        [
         "PRS84006103",
         2024,
         693.2189999999999
        ],
        [
         "PRS84006111",
         2022,
         26.099999999999998
        ],
        [
         "PRS84006112",
         2012,
         23.999999999999996
        ],
        [
         "PRS84006113",
         2024,
         602.5500000000001
        ],
        [
         "PRS84006131",
         2022,
         58
        ],
        [
         "PRS84006132",
         2022,
         56.60000000000001
        ],
        [
         "PRS84006133",
         2024,
         643.0840000000001
        ],
        [
         "PRS84006141",
         2022,
         40
        ],
        [
         "PRS84006142",
         2022,
         36.5
        ],
        [
         "PRS84006143",
         2024,
         620.2629999999999
        ],
        [
         "PRS84006151",
         2020,
         33.2
        ],
        [
         "PRS84006152",
         2020,
         41.9
        ],
        [
         "PRS84006153",
         2021,
         550.312
        ],
        [
         "PRS84006161",
         2010,
         21.9
        ],
        [
         "PRS84006162",
         2020,
         26.1
        ],
        [
         "PRS84006163",
         2024,
         562.632
        ],
        [
         "PRS84006171",
         2020,
         12.200000000000001
        ],
        [
         "PRS84006172",
         2020,
         18.2
        ],
        [
         "PRS84006173",
         2001,
         559.66
        ],
        [
         "PRS85006011",
         2022,
         23.200000000000003
        ],
        [
         "PRS85006012",
         2021,
         26.3
        ],
        [
         "PRS85006013",
         2024,
         539.023
        ],
        [
         "PRS85006021",
         2010,
         6.1000000000000005
        ],
        [
         "PRS85006022",
         2010,
         7.2
        ],
        [
         "PRS85006023",
         1997,
         519.0889999999999
        ],
        [
         "PRS85006031",
         2021,
         28.200000000000003
        ],
        [
         "PRS85006032",
         2021,
         29
        ],
        [
         "PRS85006033",
         2024,
         527.441
        ],
        [
         "PRS85006041",
         2021,
         38.7
        ],
        [
         "PRS85006042",
         2021,
         34.9
        ],
        [
         "PRS85006043",
         2024,
         605.534
        ],
        [
         "PRS85006051",
         2021,
         64.6
        ],
        [
         "PRS85006052",
         2021,
         69.69999999999999
        ],
        [
         "PRS85006053",
         2024,
         751.1840000000001
        ],
        [
         "PRS85006061",
         2021,
         54.5
        ],
        [
         "PRS85006062",
         2021,
         54
        ],
        [
         "PRS85006063",
         2024,
         730.0110000000001
        ],
        [
         "PRS85006081",
         2021,
         78.9
        ],
        [
         "PRS85006082",
         2021,
         92.60000000000001
        ],
        [
         "PRS85006083",
         2024,
         778.692
        ],
        [
         "PRS85006091",
         2020,
         26.2
        ],
        [
         "PRS85006092",
         2009,
         30.1
        ],
        [
         "PRS85006093",
         2024,
         574.025
        ],
        [
         "PRS85006101",
         2020,
         40.8
        ],
        [
         "PRS85006102",
         2020,
         48.39999999999999
        ],
        [
         "PRS85006103",
         2024,
         692.0219999999999
        ],
        [
         "PRS85006111",
         2022,
         25.6
        ],
        [
         "PRS85006112",
         2012,
         22.700000000000003
        ],
        [
         "PRS85006113",
         2024,
         602.78
        ],
        [
         "PRS85006131",
         2022,
         56.10000000000001
        ],
        [
         "PRS85006132",
         2022,
         53.900000000000006
        ],
        [
         "PRS85006133",
         2024,
         642.9369999999999
        ],
        [
         "PRS85006141",
         2022,
         38.7
        ],
        [
         "PRS85006142",
         2022,
         34.8
        ],
        [
         "PRS85006143",
         2024,
         620.245
        ],
        [
         "PRS85006151",
         2020,
         33.8
        ],
        [
         "PRS85006152",
         2020,
         42.699999999999996
        ],
        [
         "PRS85006153",
         2021,
         550.298
        ],
        [
         "PRS85006161",
         2010,
         22.4
        ],
        [
         "PRS85006162",
         2020,
         26.299999999999997
        ],
        [
         "PRS85006163",
         2024,
         561.69
        ],
        [
         "PRS85006171",
         2020,
         12.000000000000002
        ],
        [
         "PRS85006172",
         2020,
         18.299999999999997
        ],
        [
         "PRS85006173",
         2001,
         558.579
        ],
        [
         "PRS88003011",
         2022,
         25.2
        ],
        [
         "PRS88003012",
         2021,
         26.2
        ],
        [
         "PRS88003013",
         2024,
         540.847
        ],
        [
         "PRS88003021",
         2010,
         6.3999999999999995
        ],
        [
         "PRS88003022",
         2010,
         7.6
        ],
        [
         "PRS88003023",
         1997,
         517.819
        ],
        [
         "PRS88003031",
         2021,
         26.1
        ],
        [
         "PRS88003032",
         2021,
         27.299999999999997
        ],
        [
         "PRS88003033",
         2024,
         529.8249999999999
        ],
        [
         "PRS88003041",
         2021,
         49.599999999999994
        ],
        [
         "PRS88003042",
         2021,
         39.1
        ],
        [
         "PRS88003043",
         2024,
         618.056
        ],
        [
         "PRS88003051",
         2021,
         75.9
        ],
        [
         "PRS88003052",
         2021,
         73.3
        ],
        [
         "PRS88003053",
         2024,
         765.554
        ],
        [
         "PRS88003061",
         2021,
         51.8
        ],
        [
         "PRS88003062",
         2021,
         53.8
        ],
        [
         "PRS88003063",
         2024,
         740.6759999999999
        ],
        [
         "PRS88003081",
         2021,
         113.6
        ],
        [
         "PRS88003082",
         2021,
         103.9
        ],
        [
         "PRS88003083",
         2024,
         800.793
        ],
        [
         "PRS88003091",
         2021,
         22.3
        ],
        [
         "PRS88003092",
         2020,
         24.8
        ],
        [
         "PRS88003093",
         2024,
         583.2570000000001
        ],
        [
         "PRS88003101",
         2020,
         39.7
        ],
        [
         "PRS88003102",
         2020,
         46.5
        ],
        [
         "PRS88003103",
         2024,
         698.975
        ],
        [
         "PRS88003111",
         2020,
         22.299999999999997
        ],
        [
         "PRS88003112",
         2020,
         20.5
        ],
        [
         "PRS88003113",
         2024,
         599.2040000000001
        ],
        [
         "PRS88003121",
         2022,
         76.19999999999999
        ],
        [
         "PRS88003122",
         2022,
         60.00000000000001
        ],
        [
         "PRS88003123",
         2024,
         550.97
        ],
        [
         "PRS88003131",
         2022,
         59.10000000000001
        ],
        [
         "PRS88003132",
         2021,
         59.89999999999999
        ],
        [
         "PRS88003133",
         2024,
         647.8019999999999
        ],
        [
         "PRS88003141",
         2022,
         36.9
        ],
        [
         "PRS88003142",
         2022,
         32.50000000000001
        ],
        [
         "PRS88003143",
         2024,
         619.3140000000001
        ],
        [
         "PRS88003151",
         2020,
         32.6
        ],
        [
         "PRS88003152",
         2020,
         41.199999999999996
        ],
        [
         "PRS88003153",
         2021,
         550.058
        ],
        [
         "PRS88003161",
         2010,
         27.299999999999997
        ],
        [
         "PRS88003162",
         2020,
         26.8
        ],
        [
         "PRS88003163",
         2024,
         571.37
        ],
        [
         "PRS88003171",
         2020,
         15.2
        ],
        [
         "PRS88003172",
         2020,
         14.500000000000002
        ],
        [
         "PRS88003173",
         2001,
         558.625
        ],
        [
         "PRS88003181",
         2021,
         209.8
        ],
        [
         "PRS88003182",
         2002,
         308.00000000000006
        ],
        [
         "PRS88003183",
         2024,
         1064.205
        ],
        [
         "PRS88003191",
         2010,
         153
        ],
        [
         "PRS88003192",
         2002,
         282.79999999999995
        ],
        [
         "PRS88003193",
         2024,
         860.838
        ],
        [
         "PRS88003201",
         2022,
         37.2
        ],
        [
         "PRS88003202",
         2022,
         28.700000000000003
        ],
        [
         "PRS88003203",
         2024,
         583.441
        ]
       ],
       "datasetInfos": [],
       "dbfsResultPath": null,
       "isJsonSchema": true,
       "metadata": {
        "createTempViewForImplicitDf": true,
        "dataframeName": "_sqldf",
        "executionCount": 14
       },
       "overflow": false,
       "plotOptions": {
        "customPlotOptions": {},
        "displayType": "table",
        "pivotAggregation": null,
        "pivotColumns": null,
        "xColumns": null,
        "yColumns": null
       },
       "removedWidgets": [],
       "schema": [
        {
         "metadata": "{}",
         "name": "series_id",
         "type": "\"string\""
        },
        {
         "metadata": "{}",
         "name": "year",
         "type": "\"integer\""
        },
        {
         "metadata": "{}",
         "name": "value",
         "type": "\"double\""
        }
       ],
       "type": "table"
      }
     },
     "output_type": "display_data"
    },
    {
     "data": {
      "text/plain": [
       "Databricks visualization. Run in Databricks to view."
      ]
     },
     "metadata": {
      "application/vnd.databricks.v1.subcommand+json": {
       "baseErrorDetails": null,
       "bindings": {},
       "collapsed": false,
       "command": "%sql WITH q AS (with cte_maxvalue as (\nSELECT series_id, year, SUM(value) AS valueSum\nFROM bls_current_tv\nGROUP BY  series_id, year\n)\nSELECT TRIM(b.series_id) AS series_id\n, year\n, b.maxValue AS value\nFROM (\nSELECT series_id, MAX(valueSum) AS maxValue\nFROM (\nSELECT series_id, year, SUM(value) AS valueSum\nFROM bls_current_tv\n\nGROUP BY  series_id, year\n)a\nGROUP BY a.series_id\n)b\nINNER JOIN\n( \nSELECT *\nFROM cte_maxvalue) cte\nON TRIM(cte.series_id)= TRIM(b.series_id)\nAND cte.valueSum = b.maxValue\nORDER BY cte.series_id, cte.year) SELECT `year`,`value`,`series_id` FROM q",
       "commandTitle": "Report",
       "commandType": "auto",
       "commandVersion": 0,
       "commentThread": [],
       "commentsVisible": false,
       "contentSha256Hex": null,
       "customPlotOptions": {
        "redashChart": [
         {
          "key": "type",
          "value": "TABLE"
         },
         {
          "key": "options",
          "value": {
           "columns": [
            {
             "alignContent": "left",
             "allowHTML": true,
             "allowSearch": false,
             "booleanValues": [
              "false",
              "true"
             ],
             "displayAs": "string",
             "highlightLinks": false,
             "imageHeight": "",
             "imageTitleTemplate": "{{ @ }}",
             "imageUrlTemplate": "{{ @ }}",
             "imageWidth": "",
             "linkOpenInNewTab": true,
             "linkTextTemplate": "{{ @ }}",
             "linkTitleTemplate": "{{ @ }}",
             "linkUrlTemplate": "{{ @ }}",
             "name": "series_id",
             "order": 100000,
             "preserveWhitespace": false,
             "title": "series_id",
             "type": "string",
             "useMonospaceFont": false,
             "visible": true
            },
            {
             "alignContent": "right",
             "allowHTML": true,
             "allowSearch": false,
             "booleanValues": [
              "false",
              "true"
             ],
             "displayAs": "number",
             "highlightLinks": false,
             "imageHeight": "",
             "imageTitleTemplate": "{{ @ }}",
             "imageUrlTemplate": "{{ @ }}",
             "imageWidth": "",
             "linkOpenInNewTab": true,
             "linkTextTemplate": "{{ @ }}",
             "linkTitleTemplate": "{{ @ }}",
             "linkUrlTemplate": "{{ @ }}",
             "name": "year",
             "numberFormat": "0",
             "order": 100001,
             "preserveWhitespace": false,
             "title": "year",
             "type": "integer",
             "useMonospaceFont": false,
             "visible": true
            },
            {
             "alignContent": "right",
             "allowHTML": true,
             "allowSearch": false,
             "booleanValues": [
              "false",
              "true"
             ],
             "displayAs": "number",
             "highlightLinks": false,
             "imageHeight": "",
             "imageTitleTemplate": "{{ @ }}",
             "imageUrlTemplate": "{{ @ }}",
             "imageWidth": "",
             "linkOpenInNewTab": true,
             "linkTextTemplate": "{{ @ }}",
             "linkTitleTemplate": "{{ @ }}",
             "linkUrlTemplate": "{{ @ }}",
             "name": "value",
             "numberFormat": "0.00",
             "order": 100002,
             "preserveWhitespace": false,
             "title": "value",
             "type": "float",
             "useMonospaceFont": false,
             "visible": true
            }
           ],
           "condensed": true,
           "itemsPerPage": 25,
           "paginationSize": "default",
           "withRowNumber": false
          }
         }
        ]
       },
       "datasetPreviewNameToCmdIdMap": {},
       "diffDeletes": [],
       "diffInserts": [],
       "displayType": "redashChart",
       "error": null,
       "errorDetails": null,
       "errorSummary": null,
       "errorTraceType": null,
       "finishTime": 0,
       "globalVars": {},
       "guid": "",
       "height": "auto",
       "hideCommandCode": false,
       "hideCommandResult": false,
       "iPythonMetadata": null,
       "inputWidgets": {},
       "isLockedInExamMode": false,
       "latestUser": "a user",
       "latestUserId": null,
       "listResultMetadata": null,
       "metadata": {},
       "nuid": "6087044c-149b-4bd8-a641-9a3a02d3b896",
       "origId": 0,
       "parentHierarchy": [],
       "pivotAggregation": null,
       "pivotColumns": null,
       "position": 2.9921875,
       "resultDbfsErrorMessage": null,
       "resultDbfsStatus": "INLINED_IN_TREE",
       "results": null,
       "showCommandTitle": false,
       "startTime": 0,
       "state": "input",
       "streamStates": {},
       "subcommandOptions": {},
       "submitTime": 0,
       "subtype": "tableResultSubCmd.visualization",
       "tableResultIndex": 0,
       "tableResultSettingsMap": {},
       "useConsistentColors": false,
       "version": "CommandV1",
       "width": "auto",
       "workflows": [],
       "xColumns": null,
       "yColumns": null
      }
     },
     "output_type": "display_data"
    }
   ],
   "source": [
    "%sql\n",
    ";with cte_maxvalue as (\n",
    "SELECT series_id, year, SUM(value) AS valueSum\n",
    "FROM bls_current_tv\n",
    "GROUP BY  series_id, year\n",
    ")\n",
    "SELECT TRIM(b.series_id) AS series_id\n",
    ", year\n",
    ", b.maxValue AS value\n",
    "FROM (\n",
    "SELECT series_id, MAX(valueSum) AS maxValue\n",
    "FROM (\n",
    "SELECT series_id, year, SUM(value) AS valueSum\n",
    "FROM bls_current_tv\n",
    "-- WHERE trim(series_id) = 'PRS30006011'\n",
    "GROUP BY  series_id, year\n",
    ")a\n",
    "GROUP BY a.series_id\n",
    ")b\n",
    "INNER JOIN\n",
    "( \n",
    "SELECT *\n",
    "FROM cte_maxvalue) cte\n",
    "ON TRIM(cte.series_id)= TRIM(b.series_id)\n",
    "AND cte.valueSum = b.maxValue\n",
    "ORDER BY cte.series_id, cte.year\n",
    "\n",
    "----series_id, year, period,value,footnote_codes"
   ]
  },
  {
   "cell_type": "code",
   "execution_count": 0,
   "metadata": {
    "application/vnd.databricks.v1+cell": {
     "cellMetadata": {
      "byteLimit": 2048000,
      "implicitDf": true,
      "rowLimit": 10000
     },
     "inputWidgets": {},
     "nuid": "0e236998-39fd-4165-8913-18f082786773",
     "showTitle": true,
     "tableResultSettingsMap": {},
     "title": "check the math....."
    }
   },
   "outputs": [
    {
     "data": {
      "text/plain": [
       "\u001b[0;31m---------------------------------------------------------------------------\u001b[0m\n",
       "\u001b[0;31mJSONDecodeError\u001b[0m                           Traceback (most recent call last)\n",
       "File \u001b[0;32m/databricks/python/lib/python3.11/site-packages/requests/models.py:971\u001b[0m, in \u001b[0;36mResponse.json\u001b[0;34m(self, **kwargs)\u001b[0m\n",
       "\u001b[1;32m    970\u001b[0m \u001b[38;5;28;01mtry\u001b[39;00m:\n",
       "\u001b[0;32m--> 971\u001b[0m     \u001b[38;5;28;01mreturn\u001b[39;00m complexjson\u001b[38;5;241m.\u001b[39mloads(\u001b[38;5;28mself\u001b[39m\u001b[38;5;241m.\u001b[39mtext, \u001b[38;5;241m*\u001b[39m\u001b[38;5;241m*\u001b[39mkwargs)\n",
       "\u001b[1;32m    972\u001b[0m \u001b[38;5;28;01mexcept\u001b[39;00m JSONDecodeError \u001b[38;5;28;01mas\u001b[39;00m e:\n",
       "\u001b[1;32m    973\u001b[0m     \u001b[38;5;66;03m# Catch JSON-related errors and raise as requests.JSONDecodeError\u001b[39;00m\n",
       "\u001b[1;32m    974\u001b[0m     \u001b[38;5;66;03m# This aliases json.JSONDecodeError and simplejson.JSONDecodeError\u001b[39;00m\n",
       "\n",
       "File \u001b[0;32m/usr/lib/python3.11/json/__init__.py:346\u001b[0m, in \u001b[0;36mloads\u001b[0;34m(s, cls, object_hook, parse_float, parse_int, parse_constant, object_pairs_hook, **kw)\u001b[0m\n",
       "\u001b[1;32m    343\u001b[0m \u001b[38;5;28;01mif\u001b[39;00m (\u001b[38;5;28mcls\u001b[39m \u001b[38;5;129;01mis\u001b[39;00m \u001b[38;5;28;01mNone\u001b[39;00m \u001b[38;5;129;01mand\u001b[39;00m object_hook \u001b[38;5;129;01mis\u001b[39;00m \u001b[38;5;28;01mNone\u001b[39;00m \u001b[38;5;129;01mand\u001b[39;00m\n",
       "\u001b[1;32m    344\u001b[0m         parse_int \u001b[38;5;129;01mis\u001b[39;00m \u001b[38;5;28;01mNone\u001b[39;00m \u001b[38;5;129;01mand\u001b[39;00m parse_float \u001b[38;5;129;01mis\u001b[39;00m \u001b[38;5;28;01mNone\u001b[39;00m \u001b[38;5;129;01mand\u001b[39;00m\n",
       "\u001b[1;32m    345\u001b[0m         parse_constant \u001b[38;5;129;01mis\u001b[39;00m \u001b[38;5;28;01mNone\u001b[39;00m \u001b[38;5;129;01mand\u001b[39;00m object_pairs_hook \u001b[38;5;129;01mis\u001b[39;00m \u001b[38;5;28;01mNone\u001b[39;00m \u001b[38;5;129;01mand\u001b[39;00m \u001b[38;5;129;01mnot\u001b[39;00m kw):\n",
       "\u001b[0;32m--> 346\u001b[0m     \u001b[38;5;28;01mreturn\u001b[39;00m _default_decoder\u001b[38;5;241m.\u001b[39mdecode(s)\n",
       "\u001b[1;32m    347\u001b[0m \u001b[38;5;28;01mif\u001b[39;00m \u001b[38;5;28mcls\u001b[39m \u001b[38;5;129;01mis\u001b[39;00m \u001b[38;5;28;01mNone\u001b[39;00m:\n",
       "\n",
       "File \u001b[0;32m/usr/lib/python3.11/json/decoder.py:337\u001b[0m, in \u001b[0;36mJSONDecoder.decode\u001b[0;34m(self, s, _w)\u001b[0m\n",
       "\u001b[1;32m    333\u001b[0m \u001b[38;5;250m\u001b[39m\u001b[38;5;124;03m\"\"\"Return the Python representation of ``s`` (a ``str`` instance\u001b[39;00m\n",
       "\u001b[1;32m    334\u001b[0m \u001b[38;5;124;03mcontaining a JSON document).\u001b[39;00m\n",
       "\u001b[1;32m    335\u001b[0m \n",
       "\u001b[1;32m    336\u001b[0m \u001b[38;5;124;03m\"\"\"\u001b[39;00m\n",
       "\u001b[0;32m--> 337\u001b[0m obj, end \u001b[38;5;241m=\u001b[39m \u001b[38;5;28mself\u001b[39m\u001b[38;5;241m.\u001b[39mraw_decode(s, idx\u001b[38;5;241m=\u001b[39m_w(s, \u001b[38;5;241m0\u001b[39m)\u001b[38;5;241m.\u001b[39mend())\n",
       "\u001b[1;32m    338\u001b[0m end \u001b[38;5;241m=\u001b[39m _w(s, end)\u001b[38;5;241m.\u001b[39mend()\n",
       "\n",
       "File \u001b[0;32m/usr/lib/python3.11/json/decoder.py:355\u001b[0m, in \u001b[0;36mJSONDecoder.raw_decode\u001b[0;34m(self, s, idx)\u001b[0m\n",
       "\u001b[1;32m    354\u001b[0m \u001b[38;5;28;01mexcept\u001b[39;00m \u001b[38;5;167;01mStopIteration\u001b[39;00m \u001b[38;5;28;01mas\u001b[39;00m err:\n",
       "\u001b[0;32m--> 355\u001b[0m     \u001b[38;5;28;01mraise\u001b[39;00m JSONDecodeError(\u001b[38;5;124m\"\u001b[39m\u001b[38;5;124mExpecting value\u001b[39m\u001b[38;5;124m\"\u001b[39m, s, err\u001b[38;5;241m.\u001b[39mvalue) \u001b[38;5;28;01mfrom\u001b[39;00m \u001b[38;5;28;01mNone\u001b[39;00m\n",
       "\u001b[1;32m    356\u001b[0m \u001b[38;5;28;01mreturn\u001b[39;00m obj, end\n",
       "\n",
       "\u001b[0;31mJSONDecodeError\u001b[0m: Expecting value: line 1 column 1 (char 0)\n",
       "\n",
       "During handling of the above exception, another exception occurred:\n",
       "\n",
       "\u001b[0;31mJSONDecodeError\u001b[0m                           Traceback (most recent call last)\n",
       "File \u001b[0;32m<command-8723853081303887>, line 7\u001b[0m\n",
       "\u001b[1;32m      3\u001b[0m \u001b[38;5;28;01mimport\u001b[39;00m \u001b[38;5;21;01mpandas\u001b[39;00m \u001b[38;5;28;01mas\u001b[39;00m \u001b[38;5;21;01mpd\u001b[39;00m\n",
       "\u001b[1;32m      5\u001b[0m population_url \u001b[38;5;241m=\u001b[39m \u001b[38;5;124m\"\u001b[39m\u001b[38;5;124mhttps://datausa.io/api/data?drilldowns=Nation&measures=Population\u001b[39m\u001b[38;5;124m\"\u001b[39m\n",
       "\u001b[0;32m----> 7\u001b[0m population_data \u001b[38;5;241m=\u001b[39m requests\u001b[38;5;241m.\u001b[39mget(population_url)\u001b[38;5;241m.\u001b[39mjson()\n",
       "\u001b[1;32m      8\u001b[0m population_string \u001b[38;5;241m=\u001b[39m json\u001b[38;5;241m.\u001b[39mdumps(population_data) \u001b[38;5;66;03m### make a string out of the json object\u001b[39;00m\n",
       "\u001b[1;32m     10\u001b[0m \u001b[38;5;66;03m# Convert to list of dicts\u001b[39;00m\n",
       "\n",
       "File \u001b[0;32m/databricks/python/lib/python3.11/site-packages/requests/models.py:975\u001b[0m, in \u001b[0;36mResponse.json\u001b[0;34m(self, **kwargs)\u001b[0m\n",
       "\u001b[1;32m    971\u001b[0m     \u001b[38;5;28;01mreturn\u001b[39;00m complexjson\u001b[38;5;241m.\u001b[39mloads(\u001b[38;5;28mself\u001b[39m\u001b[38;5;241m.\u001b[39mtext, \u001b[38;5;241m*\u001b[39m\u001b[38;5;241m*\u001b[39mkwargs)\n",
       "\u001b[1;32m    972\u001b[0m \u001b[38;5;28;01mexcept\u001b[39;00m JSONDecodeError \u001b[38;5;28;01mas\u001b[39;00m e:\n",
       "\u001b[1;32m    973\u001b[0m     \u001b[38;5;66;03m# Catch JSON-related errors and raise as requests.JSONDecodeError\u001b[39;00m\n",
       "\u001b[1;32m    974\u001b[0m     \u001b[38;5;66;03m# This aliases json.JSONDecodeError and simplejson.JSONDecodeError\u001b[39;00m\n",
       "\u001b[0;32m--> 975\u001b[0m     \u001b[38;5;28;01mraise\u001b[39;00m RequestsJSONDecodeError(e\u001b[38;5;241m.\u001b[39mmsg, e\u001b[38;5;241m.\u001b[39mdoc, e\u001b[38;5;241m.\u001b[39mpos)\n",
       "\n",
       "\u001b[0;31mJSONDecodeError\u001b[0m: Expecting value: line 1 column 1 (char 0)"
      ]
     },
     "metadata": {
      "application/vnd.databricks.v1+output": {
       "addedWidgets": {},
       "arguments": {
        "year": "2017"
       },
       "datasetInfos": [],
       "jupyterProps": {
        "ename": "JSONDecodeError",
        "evalue": "Expecting value: line 1 column 1 (char 0)"
       },
       "metadata": {
        "errorSummary": "Command skipped"
       },
       "removedWidgets": [],
       "sqlProps": null,
       "stackFrames": [
        "\u001b[0;31m---------------------------------------------------------------------------\u001b[0m",
        "\u001b[0;31mJSONDecodeError\u001b[0m                           Traceback (most recent call last)",
        "File \u001b[0;32m/databricks/python/lib/python3.11/site-packages/requests/models.py:971\u001b[0m, in \u001b[0;36mResponse.json\u001b[0;34m(self, **kwargs)\u001b[0m\n\u001b[1;32m    970\u001b[0m \u001b[38;5;28;01mtry\u001b[39;00m:\n\u001b[0;32m--> 971\u001b[0m     \u001b[38;5;28;01mreturn\u001b[39;00m complexjson\u001b[38;5;241m.\u001b[39mloads(\u001b[38;5;28mself\u001b[39m\u001b[38;5;241m.\u001b[39mtext, \u001b[38;5;241m*\u001b[39m\u001b[38;5;241m*\u001b[39mkwargs)\n\u001b[1;32m    972\u001b[0m \u001b[38;5;28;01mexcept\u001b[39;00m JSONDecodeError \u001b[38;5;28;01mas\u001b[39;00m e:\n\u001b[1;32m    973\u001b[0m     \u001b[38;5;66;03m# Catch JSON-related errors and raise as requests.JSONDecodeError\u001b[39;00m\n\u001b[1;32m    974\u001b[0m     \u001b[38;5;66;03m# This aliases json.JSONDecodeError and simplejson.JSONDecodeError\u001b[39;00m\n",
        "File \u001b[0;32m/usr/lib/python3.11/json/__init__.py:346\u001b[0m, in \u001b[0;36mloads\u001b[0;34m(s, cls, object_hook, parse_float, parse_int, parse_constant, object_pairs_hook, **kw)\u001b[0m\n\u001b[1;32m    343\u001b[0m \u001b[38;5;28;01mif\u001b[39;00m (\u001b[38;5;28mcls\u001b[39m \u001b[38;5;129;01mis\u001b[39;00m \u001b[38;5;28;01mNone\u001b[39;00m \u001b[38;5;129;01mand\u001b[39;00m object_hook \u001b[38;5;129;01mis\u001b[39;00m \u001b[38;5;28;01mNone\u001b[39;00m \u001b[38;5;129;01mand\u001b[39;00m\n\u001b[1;32m    344\u001b[0m         parse_int \u001b[38;5;129;01mis\u001b[39;00m \u001b[38;5;28;01mNone\u001b[39;00m \u001b[38;5;129;01mand\u001b[39;00m parse_float \u001b[38;5;129;01mis\u001b[39;00m \u001b[38;5;28;01mNone\u001b[39;00m \u001b[38;5;129;01mand\u001b[39;00m\n\u001b[1;32m    345\u001b[0m         parse_constant \u001b[38;5;129;01mis\u001b[39;00m \u001b[38;5;28;01mNone\u001b[39;00m \u001b[38;5;129;01mand\u001b[39;00m object_pairs_hook \u001b[38;5;129;01mis\u001b[39;00m \u001b[38;5;28;01mNone\u001b[39;00m \u001b[38;5;129;01mand\u001b[39;00m \u001b[38;5;129;01mnot\u001b[39;00m kw):\n\u001b[0;32m--> 346\u001b[0m     \u001b[38;5;28;01mreturn\u001b[39;00m _default_decoder\u001b[38;5;241m.\u001b[39mdecode(s)\n\u001b[1;32m    347\u001b[0m \u001b[38;5;28;01mif\u001b[39;00m \u001b[38;5;28mcls\u001b[39m \u001b[38;5;129;01mis\u001b[39;00m \u001b[38;5;28;01mNone\u001b[39;00m:\n",
        "File \u001b[0;32m/usr/lib/python3.11/json/decoder.py:337\u001b[0m, in \u001b[0;36mJSONDecoder.decode\u001b[0;34m(self, s, _w)\u001b[0m\n\u001b[1;32m    333\u001b[0m \u001b[38;5;250m\u001b[39m\u001b[38;5;124;03m\"\"\"Return the Python representation of ``s`` (a ``str`` instance\u001b[39;00m\n\u001b[1;32m    334\u001b[0m \u001b[38;5;124;03mcontaining a JSON document).\u001b[39;00m\n\u001b[1;32m    335\u001b[0m \n\u001b[1;32m    336\u001b[0m \u001b[38;5;124;03m\"\"\"\u001b[39;00m\n\u001b[0;32m--> 337\u001b[0m obj, end \u001b[38;5;241m=\u001b[39m \u001b[38;5;28mself\u001b[39m\u001b[38;5;241m.\u001b[39mraw_decode(s, idx\u001b[38;5;241m=\u001b[39m_w(s, \u001b[38;5;241m0\u001b[39m)\u001b[38;5;241m.\u001b[39mend())\n\u001b[1;32m    338\u001b[0m end \u001b[38;5;241m=\u001b[39m _w(s, end)\u001b[38;5;241m.\u001b[39mend()\n",
        "File \u001b[0;32m/usr/lib/python3.11/json/decoder.py:355\u001b[0m, in \u001b[0;36mJSONDecoder.raw_decode\u001b[0;34m(self, s, idx)\u001b[0m\n\u001b[1;32m    354\u001b[0m \u001b[38;5;28;01mexcept\u001b[39;00m \u001b[38;5;167;01mStopIteration\u001b[39;00m \u001b[38;5;28;01mas\u001b[39;00m err:\n\u001b[0;32m--> 355\u001b[0m     \u001b[38;5;28;01mraise\u001b[39;00m JSONDecodeError(\u001b[38;5;124m\"\u001b[39m\u001b[38;5;124mExpecting value\u001b[39m\u001b[38;5;124m\"\u001b[39m, s, err\u001b[38;5;241m.\u001b[39mvalue) \u001b[38;5;28;01mfrom\u001b[39;00m \u001b[38;5;28;01mNone\u001b[39;00m\n\u001b[1;32m    356\u001b[0m \u001b[38;5;28;01mreturn\u001b[39;00m obj, end\n",
        "\u001b[0;31mJSONDecodeError\u001b[0m: Expecting value: line 1 column 1 (char 0)",
        "\nDuring handling of the above exception, another exception occurred:\n",
        "\u001b[0;31mJSONDecodeError\u001b[0m                           Traceback (most recent call last)",
        "File \u001b[0;32m<command-8723853081303887>, line 7\u001b[0m\n\u001b[1;32m      3\u001b[0m \u001b[38;5;28;01mimport\u001b[39;00m \u001b[38;5;21;01mpandas\u001b[39;00m \u001b[38;5;28;01mas\u001b[39;00m \u001b[38;5;21;01mpd\u001b[39;00m\n\u001b[1;32m      5\u001b[0m population_url \u001b[38;5;241m=\u001b[39m \u001b[38;5;124m\"\u001b[39m\u001b[38;5;124mhttps://datausa.io/api/data?drilldowns=Nation&measures=Population\u001b[39m\u001b[38;5;124m\"\u001b[39m\n\u001b[0;32m----> 7\u001b[0m population_data \u001b[38;5;241m=\u001b[39m requests\u001b[38;5;241m.\u001b[39mget(population_url)\u001b[38;5;241m.\u001b[39mjson()\n\u001b[1;32m      8\u001b[0m population_string \u001b[38;5;241m=\u001b[39m json\u001b[38;5;241m.\u001b[39mdumps(population_data) \u001b[38;5;66;03m### make a string out of the json object\u001b[39;00m\n\u001b[1;32m     10\u001b[0m \u001b[38;5;66;03m# Convert to list of dicts\u001b[39;00m\n",
        "File \u001b[0;32m/databricks/python/lib/python3.11/site-packages/requests/models.py:975\u001b[0m, in \u001b[0;36mResponse.json\u001b[0;34m(self, **kwargs)\u001b[0m\n\u001b[1;32m    971\u001b[0m     \u001b[38;5;28;01mreturn\u001b[39;00m complexjson\u001b[38;5;241m.\u001b[39mloads(\u001b[38;5;28mself\u001b[39m\u001b[38;5;241m.\u001b[39mtext, \u001b[38;5;241m*\u001b[39m\u001b[38;5;241m*\u001b[39mkwargs)\n\u001b[1;32m    972\u001b[0m \u001b[38;5;28;01mexcept\u001b[39;00m JSONDecodeError \u001b[38;5;28;01mas\u001b[39;00m e:\n\u001b[1;32m    973\u001b[0m     \u001b[38;5;66;03m# Catch JSON-related errors and raise as requests.JSONDecodeError\u001b[39;00m\n\u001b[1;32m    974\u001b[0m     \u001b[38;5;66;03m# This aliases json.JSONDecodeError and simplejson.JSONDecodeError\u001b[39;00m\n\u001b[0;32m--> 975\u001b[0m     \u001b[38;5;28;01mraise\u001b[39;00m RequestsJSONDecodeError(e\u001b[38;5;241m.\u001b[39mmsg, e\u001b[38;5;241m.\u001b[39mdoc, e\u001b[38;5;241m.\u001b[39mpos)\n",
        "\u001b[0;31mJSONDecodeError\u001b[0m: Expecting value: line 1 column 1 (char 0)"
       ],
       "type": "baseError"
      }
     },
     "output_type": "display_data"
    }
   ],
   "source": [
    "# %sql\n",
    "# SELECT *\n",
    "# FROM bls_current_tv\n",
    "# WHERE TRIM(series_id) = 'PRS30006032'\n",
    "# AND TRIM(period) = 'Q01'\n",
    "# AND TRIM(year) = '2018'\n",
    "\n",
    "# returns different values than what's in git repo.....but works for data that's there now"
   ]
  },
  {
   "cell_type": "markdown",
   "metadata": {
    "application/vnd.databricks.v1+cell": {
     "cellMetadata": {
      "byteLimit": 2048000,
      "rowLimit": 10000
     },
     "inputWidgets": {},
     "nuid": "73275955-afd5-42e9-a87a-613deebd49fc",
     "showTitle": false,
     "tableResultSettingsMap": {},
     "title": ""
    }
   },
   "source": [
    "#####  Part 3.3 generate a report that will provide the value for series_id = PRS30006032 and period = Q01 and the population for that given year -- so year is a parameter? Added parameter year and to WHERE clause. Also one row doesn't make a very good report; made a table report and also a dashboard via the icon above\n",
    "##### See dashboard report that shows the table with values for series_id = PRS30006032 and period = Q01 and the population, where available"
   ]
  },
  {
   "cell_type": "code",
   "execution_count": 0,
   "metadata": {
    "application/vnd.databricks.v1+cell": {
     "cellMetadata": {
      "byteLimit": 2048000,
      "implicitDf": true,
      "rowLimit": 10000
     },
     "inputWidgets": {},
     "nuid": "e3265c40-a742-4d13-824e-d726f000fea7",
     "showTitle": true,
     "tableResultSettingsMap": {},
     "title": "Part 3.3"
    }
   },
   "outputs": [
    {
     "data": {
      "text/html": [
       "<style scoped>\n",
       "  .table-result-container {\n",
       "    max-height: 300px;\n",
       "    overflow: auto;\n",
       "  }\n",
       "  table, th, td {\n",
       "    border: 1px solid black;\n",
       "    border-collapse: collapse;\n",
       "  }\n",
       "  th, td {\n",
       "    padding: 5px;\n",
       "  }\n",
       "  th {\n",
       "    text-align: left;\n",
       "  }\n",
       "</style><div class='table-result-container'><table class='table-result'><thead style='background-color: white'><tr><th>series_id</th><th>year</th><th>period</th><th>value</th><th>population</th></tr></thead><tbody><tr><td>PRS30006032</td><td>2016</td><td>Q01</td><td>-1.4</td><td>318558162</td></tr></tbody></table></div>"
      ]
     },
     "metadata": {
      "application/vnd.databricks.v1+output": {
       "addedWidgets": {},
       "aggData": [],
       "aggError": "",
       "aggOverflow": false,
       "aggSchema": [],
       "aggSeriesLimitReached": false,
       "aggType": "",
       "arguments": {},
       "columnCustomDisplayInfos": {},
       "data": [
        [
         "PRS30006032",
         "2016",
         "Q01",
         "-1.4",
         318558162
        ]
       ],
       "datasetInfos": [],
       "dbfsResultPath": null,
       "isJsonSchema": true,
       "metadata": {
        "createTempViewForImplicitDf": true,
        "dataframeName": "_sqldf",
        "executionCount": 16
       },
       "overflow": false,
       "plotOptions": {
        "customPlotOptions": {},
        "displayType": "table",
        "pivotAggregation": null,
        "pivotColumns": null,
        "xColumns": null,
        "yColumns": null
       },
       "removedWidgets": [],
       "schema": [
        {
         "metadata": "{}",
         "name": "series_id",
         "type": "\"string\""
        },
        {
         "metadata": "{}",
         "name": "year",
         "type": "\"string\""
        },
        {
         "metadata": "{}",
         "name": "period",
         "type": "\"string\""
        },
        {
         "metadata": "{}",
         "name": "value",
         "type": "\"string\""
        },
        {
         "metadata": "{}",
         "name": "population",
         "type": "\"long\""
        }
       ],
       "type": "table"
      }
     },
     "output_type": "display_data"
    },
    {
     "data": {
      "text/plain": [
       "Databricks visualization. Run in Databricks to view."
      ]
     },
     "metadata": {
      "application/vnd.databricks.v1.subcommand+json": {
       "baseErrorDetails": null,
       "bindings": {},
       "collapsed": false,
       "command": "%sql WITH q AS (with cte_population AS (\nSELECT TRIM(item.`ID Year`) AS year, item.population\nFROM population_tv\nJOIN LATERAL explode(data) AS t(item)\n)\nSELECT series_id, cte.year, period, value, population\nFROM (\nSELECT TRIM(series_id) AS series_id, TRIM(year) AS year,period, value\nFROM bls_current_tv\nWHERE TRIM(series_id) = 'PRS30006032'\nAND TRIM(period) = 'Q01'\n) a \nINNER JOIN cte_population cte \nON a.year = cte.year\nAND cte.year = :year  \nORDER BY a.year) SELECT `year`,`population`,`series_id` FROM q",
       "commandTitle": "Report",
       "commandType": "auto",
       "commandVersion": 0,
       "commentThread": [],
       "commentsVisible": false,
       "contentSha256Hex": null,
       "customPlotOptions": {
        "redashChart": [
         {
          "key": "type",
          "value": "TABLE"
         },
         {
          "key": "options",
          "value": {
           "columns": [
            {
             "alignContent": "left",
             "allowHTML": true,
             "allowSearch": false,
             "booleanValues": [
              "false",
              "true"
             ],
             "displayAs": "string",
             "highlightLinks": false,
             "imageHeight": "",
             "imageTitleTemplate": "{{ @ }}",
             "imageUrlTemplate": "{{ @ }}",
             "imageWidth": "",
             "linkOpenInNewTab": true,
             "linkTextTemplate": "{{ @ }}",
             "linkTitleTemplate": "{{ @ }}",
             "linkUrlTemplate": "{{ @ }}",
             "name": "series_id",
             "order": 100000,
             "preserveWhitespace": false,
             "title": "series_id",
             "type": "string",
             "useMonospaceFont": false,
             "visible": true
            },
            {
             "alignContent": "left",
             "allowHTML": true,
             "allowSearch": false,
             "booleanValues": [
              "false",
              "true"
             ],
             "displayAs": "string",
             "highlightLinks": false,
             "imageHeight": "",
             "imageTitleTemplate": "{{ @ }}",
             "imageUrlTemplate": "{{ @ }}",
             "imageWidth": "",
             "linkOpenInNewTab": true,
             "linkTextTemplate": "{{ @ }}",
             "linkTitleTemplate": "{{ @ }}",
             "linkUrlTemplate": "{{ @ }}",
             "name": "year",
             "order": 100001,
             "preserveWhitespace": false,
             "title": "year",
             "type": "string",
             "useMonospaceFont": false,
             "visible": true
            },
            {
             "alignContent": "left",
             "allowHTML": true,
             "allowSearch": false,
             "booleanValues": [
              "false",
              "true"
             ],
             "displayAs": "string",
             "highlightLinks": false,
             "imageHeight": "",
             "imageTitleTemplate": "{{ @ }}",
             "imageUrlTemplate": "{{ @ }}",
             "imageWidth": "",
             "linkOpenInNewTab": true,
             "linkTextTemplate": "{{ @ }}",
             "linkTitleTemplate": "{{ @ }}",
             "linkUrlTemplate": "{{ @ }}",
             "name": "period",
             "order": 100002,
             "preserveWhitespace": false,
             "title": "period",
             "type": "string",
             "useMonospaceFont": false,
             "visible": true
            },
            {
             "alignContent": "left",
             "allowHTML": true,
             "allowSearch": false,
             "booleanValues": [
              "false",
              "true"
             ],
             "displayAs": "string",
             "highlightLinks": false,
             "imageHeight": "",
             "imageTitleTemplate": "{{ @ }}",
             "imageUrlTemplate": "{{ @ }}",
             "imageWidth": "",
             "linkOpenInNewTab": true,
             "linkTextTemplate": "{{ @ }}",
             "linkTitleTemplate": "{{ @ }}",
             "linkUrlTemplate": "{{ @ }}",
             "name": "value",
             "order": 100003,
             "preserveWhitespace": false,
             "title": "value",
             "type": "string",
             "useMonospaceFont": false,
             "visible": true
            },
            {
             "alignContent": "right",
             "allowHTML": true,
             "allowSearch": false,
             "booleanValues": [
              "false",
              "true"
             ],
             "displayAs": "number",
             "highlightLinks": false,
             "imageHeight": "",
             "imageTitleTemplate": "{{ @ }}",
             "imageUrlTemplate": "{{ @ }}",
             "imageWidth": "",
             "linkOpenInNewTab": true,
             "linkTextTemplate": "{{ @ }}",
             "linkTitleTemplate": "{{ @ }}",
             "linkUrlTemplate": "{{ @ }}",
             "name": "population",
             "numberFormat": "0",
             "order": 100004,
             "preserveWhitespace": false,
             "title": "population",
             "type": "integer",
             "useMonospaceFont": false,
             "visible": true
            }
           ],
           "condensed": true,
           "itemsPerPage": 25,
           "paginationSize": "default",
           "withRowNumber": false
          }
         }
        ]
       },
       "datasetPreviewNameToCmdIdMap": {},
       "diffDeletes": [],
       "diffInserts": [],
       "displayType": "redashChart",
       "error": null,
       "errorDetails": null,
       "errorSummary": null,
       "errorTraceType": null,
       "finishTime": 0,
       "globalVars": {},
       "guid": "",
       "height": "auto",
       "hideCommandCode": false,
       "hideCommandResult": false,
       "iPythonMetadata": null,
       "inputWidgets": {},
       "isLockedInExamMode": false,
       "latestUser": "a user",
       "latestUserId": null,
       "listResultMetadata": null,
       "metadata": {},
       "nuid": "1618e5fe-8983-44bd-adb9-33d7057cc433",
       "origId": 0,
       "parentHierarchy": [],
       "pivotAggregation": null,
       "pivotColumns": null,
       "position": 3.1826171875,
       "resultDbfsErrorMessage": null,
       "resultDbfsStatus": "INLINED_IN_TREE",
       "results": null,
       "showCommandTitle": false,
       "startTime": 0,
       "state": "input",
       "streamStates": {},
       "subcommandOptions": {},
       "submitTime": 0,
       "subtype": "tableResultSubCmd.visualization",
       "tableResultIndex": 0,
       "tableResultSettingsMap": {},
       "useConsistentColors": false,
       "version": "CommandV1",
       "width": "auto",
       "workflows": [],
       "xColumns": null,
       "yColumns": null
      }
     },
     "output_type": "display_data"
    }
   ],
   "source": [
    "%sql\n",
    ";with cte_population AS (\n",
    "SELECT TRIM(item.`ID Year`) AS year, item.population\n",
    "FROM population_tv\n",
    "JOIN LATERAL explode(data) AS t(item)\n",
    ")\n",
    "SELECT series_id, cte.year, period, value, population\n",
    "FROM (\n",
    "SELECT TRIM(series_id) AS series_id, TRIM(year) AS year,period, value\n",
    "FROM bls_current_tv\n",
    "WHERE TRIM(series_id) = 'PRS30006032'\n",
    "AND TRIM(period) = 'Q01'\n",
    ") a \n",
    "INNER JOIN cte_population cte \n",
    "ON a.year = cte.year\n",
    "AND cte.year = :year  --- takes year parameter\n",
    "ORDER BY a.year\n"
   ]
  }
 ],
 "metadata": {
  "application/vnd.databricks.v1+notebook": {
   "computePreferences": null,
   "dashboards": [
    {
     "elements": [
      {
       "dashboardResultIndex": 0,
       "elementNUID": "e3265c40-a742-4d13-824e-d726f000fea7",
       "elementType": "command",
       "guid": "98153435-2ca1-48b1-ba22-e423fd9578be",
       "options": {
        "autoScaleImg": false,
        "scale": 0,
        "showRunButton": true,
        "showTitle": true,
        "title": "Part 3.3",
        "titleAlign": "center"
       },
       "position": {
        "height": 7,
        "width": 16,
        "x": 0,
        "y": 0,
        "z": null
       },
       "resultIndex": null
      }
     ],
     "globalVars": {},
     "guid": "",
     "layoutOption": {
      "grid": true,
      "stack": true
     },
     "nuid": "57133f3a-7d48-4613-9623-bf44b6eb5ae5",
     "origId": 7587494779286870,
     "title": "bls_report",
     "version": "DashboardViewV1",
     "width": 1024
    },
    {
     "elements": [
      {
       "dashboardResultIndex": 0,
       "elementNUID": "eafb41db-d029-4493-9aad-7fff7e25f0be",
       "elementType": "command",
       "guid": "10f014e4-13bf-47d2-98c7-be655eaad13c",
       "options": null,
       "position": {
        "height": 7,
        "width": 15,
        "x": 0,
        "y": 0,
        "z": null
       },
       "resultIndex": null
      }
     ],
     "globalVars": {},
     "guid": "",
     "layoutOption": {
      "grid": true,
      "stack": true
     },
     "nuid": "c452cd83-0795-4f48-a59a-95d7944d8b0e",
     "origId": 4950866218969692,
     "title": "seris_summary",
     "version": "DashboardViewV1",
     "width": 1024
    }
   ],
   "environmentMetadata": {
    "base_environment": "",
    "environment_version": "2"
   },
   "inputWidgetPreferences": {
    "autoRunOnWidgetChange": "no-auto-run"
   },
   "language": "python",
   "notebookMetadata": {
    "mostRecentlyExecutedCommandWithImplicitDF": {
     "commandId": 7587494779286864,
     "dataframes": [
      "_sqldf"
     ]
    },
    "pythonIndentUnit": 4
   },
   "notebookName": "bls_notebook",
   "widgets": {
    "year": {
     "currentValue": "2016",
     "nuid": "f0c24427-0a3a-44ee-9076-8fc6122dd942",
     "typedWidgetInfo": {
      "autoCreated": false,
      "defaultValue": "2018",
      "label": "year",
      "name": "year",
      "options": {
       "validationRegex": null,
       "widgetDisplayType": "Text"
      },
      "parameterDataType": "String"
     },
     "widgetInfo": {
      "defaultValue": "2018",
      "label": "year",
      "name": "year",
      "options": {
       "autoCreated": false,
       "validationRegex": null,
       "widgetType": "text"
      },
      "widgetType": "text"
     }
    }
   }
  },
  "language_info": {
   "name": "python"
  }
 },
 "nbformat": 4,
 "nbformat_minor": 0
}
